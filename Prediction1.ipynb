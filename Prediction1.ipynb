{
 "cells": [
  {
   "cell_type": "raw",
   "metadata": {},
   "source": [
    "Le temps de retard total d'un vol est la somme des retards liés à la météo(WeatherDelay), à la sécurité au sein de l'aéroport(SecurityDelay), à la compagnie (CarrierDelay) et au système de sécurité national (NASDelay).\n",
    "\n",
    "- La variable WeatherDelay est prédite en uilisant un algorithme de regression linéaire à partir des données météorolgiques\n",
    "\n",
    "- La variable SecurityDelay est calculée en faisant une moyenne par mois et par aéroport.\n",
    "\n",
    "- La variable CarrierDelay est calculée en faisant une moyenne par mois et par compagnie.\n",
    "\n",
    "- La variable NASDelay est calculée en faisant une moyenne par mois et par heure.\n"
   ]
  },
  {
   "cell_type": "code",
   "execution_count": 1,
   "metadata": {},
   "outputs": [],
   "source": [
    "import numpy as np\n",
    "import pandas as pd\n",
    "import matplotlib.pyplot as plt\n",
    "import seaborn as sns"
   ]
  },
  {
   "cell_type": "code",
   "execution_count": 2,
   "metadata": {},
   "outputs": [],
   "source": [
    "df_SD = pd.read_csv('SecurityDelay.csv')\n",
    "df_CD = pd.read_csv('CarrierDelay.csv')\n",
    "df_NASD = pd.read_csv('NASDelay.csv')"
   ]
  },
  {
   "cell_type": "code",
   "execution_count": 3,
   "metadata": {},
   "outputs": [],
   "source": [
    "def prediction(compagnie,mois,temperature,relativeHumidity,windSpeed,visibility,heure,aeroport):\n",
    "    WeatherDelay=0.2362*temperature+0.2887*relativeHumidity+0.3618*windSpeed+0.6123*visibility\n",
    "    SecurityDelay = df_SD[(df_SD['Month'] == mois) & (df_SD['Origin'] == aeroport)]['SecurityDelayMean'].values[0]\n",
    "    CarrierDelay = df_CD[(df_CD['Month'] == mois) & (df_CD['UniqueCarrier'] == compagnie)]['CarrierDelayMean'].values[0]\n",
    "    NASDelay = df_NASD[(df_NASD['Hour'] == heure)]['NASDelayMean'].values[0]\n",
    "    tempsDeRetardTotal=WeatherDelay+SecurityDelay+CarrierDelay+NASDelay\n",
    "    \n",
    "    return tempsDeRetardTotal"
   ]
  },
  {
   "cell_type": "code",
   "execution_count": 4,
   "metadata": {},
   "outputs": [
    {
     "data": {
      "text/plain": [
       "79.41502317701887"
      ]
     },
     "execution_count": 4,
     "metadata": {},
     "output_type": "execute_result"
    }
   ],
   "source": [
    "prediction('AA','April',71,49.66,18.9,10,19,'IND')"
   ]
  }
 ],
 "metadata": {
  "kernelspec": {
   "display_name": "Python 3",
   "language": "python",
   "name": "python3"
  },
  "language_info": {
   "codemirror_mode": {
    "name": "ipython",
    "version": 3
   },
   "file_extension": ".py",
   "mimetype": "text/x-python",
   "name": "python",
   "nbconvert_exporter": "python",
   "pygments_lexer": "ipython3",
   "version": "3.7.3"
  }
 },
 "nbformat": 4,
 "nbformat_minor": 2
}
