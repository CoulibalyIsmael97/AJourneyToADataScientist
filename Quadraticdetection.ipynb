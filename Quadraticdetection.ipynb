{
 "cells": [
  {
   "cell_type": "markdown",
   "metadata": {},
   "source": [
    "Membres du groupes:\n",
    "COULIBALY Fanfol Ismael Raoul et WANG Ziyuan"
   ]
  },
  {
   "cell_type": "code",
   "execution_count": 104,
   "metadata": {},
   "outputs": [
    {
     "name": "stdout",
     "output_type": "stream",
     "text": [
      "Populating the interactive namespace from numpy and matplotlib\n",
      "Error Rate           : 0.0263\n",
      "Probability or error : 0.02727843275891395\n"
     ]
    }
   ],
   "source": [
    "# Import question1\n",
    "%pylab notebook \n",
    "import scipy.stats as st\n",
    "Q = st.norm.sf     # quantile function of the normal distribution\n",
    "Qchi2 = st.chi2.sf # quantile function of the centred chi2 distribution \n",
    "\n",
    "NbTests = 10000; sigma_S = 10; sigma_W = 1; N=2\n",
    "p = 0.5\n",
    "rho = sigma_S**2 / sigma_W**2\n",
    "#Centred function\n",
    "# threshold\n",
    "threshold = sigma_W**2 * (rho + 1) / rho * np.log(rho + 1)\n",
    "epsilon = st.bernoulli.rvs(p,size = NbTests)  # Generate Epsilon\n",
    "# Generate observa   \n",
    "W = sigma_W*randn(N,NbTests) # Generate noise\n",
    "S = sigma_S*randn(N,NbTests) # Generate signaltions\n",
    "X = empty([N,NbTests])\n",
    "sx = zeros(NbTests)\n",
    "for j  in range(N):\n",
    "    for i in range(NbTests):\n",
    "        X[j][i] = epsilon[i]*(S[j][i] + W[j][i]) + (1 - epsilon[i])*W[j][i]\n",
    "        sx[i] = sx[i]+X[j][i]**2\n",
    "        Decision = zeros(NbTests)\n",
    "for n in range(NbTests):\n",
    "    if sx[n] > N*threshold:\n",
    "        Decision[n] = 1\n",
    "# Error rates and probability of error\n",
    "ErrorRate = mean(Decision != epsilon)\n",
    "Pe = 1/2 + 1/2* Qchi2(N*(rho + 1)/rho * np.log(rho + 1),N) - 1/2*Qchi2(N/rho * np.log(rho + 1),N)\n",
    "print('Error Rate           : {}'.format(ErrorRate))\n",
    "print('Probability or error : {}'.format(Pe))"
   ]
  },
  {
   "cell_type": "code",
   "execution_count": 19,
   "metadata": {},
   "outputs": [
    {
     "name": "stdout",
     "output_type": "stream",
     "text": [
      "Populating the interactive namespace from numpy and matplotlib\n",
      "Estimated size   : 0.010101\n",
      "Theoretical size : 0.01\n",
      "Estimated power   : 0.034129\n",
      "Theoretical Power : 0.03389893912284281\n"
     ]
    }
   ],
   "source": [
    "# Import question2\n",
    "%pylab notebook \n",
    "# the command above is a magic one: It imports numpy, figures (plot), random, and so forth\n",
    "import scipy.stats as st\n",
    "#from scipy.stats import bernoulli\n",
    "#from scipy.stats import norm\n",
    "Q = st.norm.sf\n",
    "Qinv = st.norm.isf\n",
    "\n",
    "# A solution proposed by Guillaume Ansel\n",
    "C_POINTS = 1000000  # Number of tests\n",
    "C_A = 1\n",
    "C_ALPHA = 1e-2  # size\n",
    "C_DIM = 2  # Dimension\n",
    "V_XI_0 = 1/sqrt(C_DIM) * ones(C_DIM)\n",
    "C_SIGMA = 2\n",
    "# Threshold\n",
    "C_THRESHOLD = C_SIGMA * Qinv(C_ALPHA)\n",
    "\n",
    "\n",
    "\n",
    "\n",
    "m_y = C_SIGMA * randn(C_POINTS, C_DIM)\n",
    "\n",
    "# Decision under the null hypothesis\n",
    "v_d = sign(C_A) * m_y @ V_XI_0 > C_THRESHOLD  # @ : produit matriciel\n",
    "\n",
    "# Size\n",
    "d_pfa_mes = mean(v_d)\n",
    "print('Estimated size   : {}'.format(d_pfa_mes))\n",
    "print('Theoretical size : {}'.format(C_ALPHA))\n",
    "\n",
    "\n",
    "\n",
    "\n",
    "\n",
    "m_y = C_SIGMA * randn(C_POINTS, C_DIM) + C_A * V_XI_0\n",
    "# Decision under the alternative hypothesis\n",
    "v_d = sign(C_A) * m_y @ V_XI_0 > C_THRESHOLD  # @ : produit matriciel\n",
    "# Estimate the power\n",
    "d_power_mes = mean(v_d)\n",
    "print('Estimated power   : {}'.format(d_power_mes))\n",
    "# Calculate the theoretical power\n",
    "d_power_th = Q(Qinv(C_ALPHA) - abs(C_A)/C_SIGMA)\n",
    "print('Theoretical Power : {}'.format(d_power_th))"
   ]
  },
  {
   "cell_type": "code",
   "execution_count": null,
   "metadata": {},
   "outputs": [],
   "source": []
  }
 ],
 "metadata": {
  "kernelspec": {
   "display_name": "Python 3",
   "language": "python",
   "name": "python3"
  },
  "language_info": {
   "codemirror_mode": {
    "name": "ipython",
    "version": 3
   },
   "file_extension": ".py",
   "mimetype": "text/x-python",
   "name": "python",
   "nbconvert_exporter": "python",
   "pygments_lexer": "ipython3",
   "version": "3.7.3"
  }
 },
 "nbformat": 4,
 "nbformat_minor": 2
}
