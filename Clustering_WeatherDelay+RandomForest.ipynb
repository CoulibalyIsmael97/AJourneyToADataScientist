{
 "cells": [
  {
   "cell_type": "code",
   "execution_count": 1,
   "metadata": {},
   "outputs": [],
   "source": [
    "import numpy as np\n",
    "import pandas as pd\n",
    "import matplotlib.pyplot as plt\n",
    "import seaborn as sns\n",
    "from sklearn import preprocessing\n",
    "from sklearn.ensemble import RandomForestClassifier\n",
    "from sklearn.model_selection import train_test_split\n",
    "from sklearn.metrics import recall_score, roc_auc_score, confusion_matrix, precision_score, classification_report,accuracy_score, roc_curve\n",
    "from imblearn.over_sampling import SMOTE\n",
    "from sklearn.utils import resample"
   ]
  },
  {
   "cell_type": "code",
   "execution_count": 2,
   "metadata": {},
   "outputs": [],
   "source": [
    "df_jointed = pd.read_csv('Jointed_ficher_v2.csv')"
   ]
  },
  {
   "cell_type": "code",
   "execution_count": 3,
   "metadata": {},
   "outputs": [
    {
     "name": "stdout",
     "output_type": "stream",
     "text": [
      "count    1.110137e+06\n",
      "mean     3.049208e+00\n",
      "std      1.869882e+01\n",
      "min      0.000000e+00\n",
      "25%      0.000000e+00\n",
      "50%      0.000000e+00\n",
      "75%      0.000000e+00\n",
      "max      1.297000e+03\n",
      "Name: WeatherDelay, dtype: float64\n"
     ]
    },
    {
     "data": {
      "text/plain": [
       "array([[<matplotlib.axes._subplots.AxesSubplot object at 0x0000023270010048>]],\n",
       "      dtype=object)"
      ]
     },
     "execution_count": 3,
     "metadata": {},
     "output_type": "execute_result"
    },
    {
     "data": {
      "image/png": "[encoded data removed]",
      "text/plain": [
       "<Figure size 720x360 with 1 Axes>"
      ]
     },
     "metadata": {
      "needs_background": "light"
     },
     "output_type": "display_data"
    },
    {
     "data": {
      "image/png": "[encoded data removed]",
      "text/plain": [
       "<Figure size 432x288 with 1 Axes>"
      ]
     },
     "metadata": {
      "needs_background": "light"
     },
     "output_type": "display_data"
    }
   ],
   "source": [
    "print(df_jointed['WeatherDelay'].describe())\n",
    "\n",
    "plt.figure(figsize=(10,5))\n",
    "sns.boxplot(x='WeatherDelay', data=df_jointed)\n",
    "df_jointed.hist('WeatherDelay')"
   ]
  },
  {
   "cell_type": "code",
   "execution_count": 4,
   "metadata": {},
   "outputs": [],
   "source": [
    "vu=df_jointed[(df_jointed['WeatherDelay']<30)]"
   ]
  },
  {
   "cell_type": "code",
   "execution_count": 5,
   "metadata": {},
   "outputs": [
    {
     "data": {
      "text/plain": [
       "(1076275, 33)"
      ]
     },
     "execution_count": 5,
     "metadata": {},
     "output_type": "execute_result"
    }
   ],
   "source": [
    "vu.shape"
   ]
  },
  {
   "cell_type": "code",
   "execution_count": 6,
   "metadata": {},
   "outputs": [
    {
     "data": {
      "text/plain": [
       "(1110137, 33)"
      ]
     },
     "execution_count": 6,
     "metadata": {},
     "output_type": "execute_result"
    }
   ],
   "source": [
    "df_jointed.shape"
   ]
  },
  {
   "cell_type": "code",
   "execution_count": 7,
   "metadata": {},
   "outputs": [
    {
     "data": {
      "text/plain": [
       "0.7970926110921445"
      ]
     },
     "execution_count": 7,
     "metadata": {},
     "output_type": "execute_result"
    }
   ],
   "source": [
    "884882/1110137"
   ]
  },
  {
   "cell_type": "code",
   "execution_count": 8,
   "metadata": {},
   "outputs": [
    {
     "data": {
      "text/plain": [
       "33862"
      ]
     },
     "execution_count": 8,
     "metadata": {},
     "output_type": "execute_result"
    }
   ],
   "source": [
    "(df_jointed.shape[0])-(vu.shape[0])"
   ]
  },
  {
   "cell_type": "code",
   "execution_count": 9,
   "metadata": {
    "scrolled": true
   },
   "outputs": [
    {
     "data": {
      "text/html": [
       "<div>\n",
       "<style scoped>\n",
       "    .dataframe tbody tr th:only-of-type {\n",
       "        vertical-align: middle;\n",
       "    }\n",
       "\n",
       "    .dataframe tbody tr th {\n",
       "        vertical-align: top;\n",
       "    }\n",
       "\n",
       "    .dataframe thead th {\n",
       "        text-align: right;\n",
       "    }\n",
       "</style>\n",
       "<table border=\"1\" class=\"dataframe\">\n",
       "  <thead>\n",
       "    <tr style=\"text-align: right;\">\n",
       "      <th></th>\n",
       "      <th>Year</th>\n",
       "      <th>Month</th>\n",
       "      <th>DayofMonth</th>\n",
       "      <th>DayOfWeek</th>\n",
       "      <th>DepTime</th>\n",
       "      <th>CRSDepTime</th>\n",
       "      <th>ArrTime</th>\n",
       "      <th>CRSArrTime</th>\n",
       "      <th>UniqueCarrier</th>\n",
       "      <th>TailNum</th>\n",
       "      <th>...</th>\n",
       "      <th>City</th>\n",
       "      <th>Hour</th>\n",
       "      <th>Start_Date</th>\n",
       "      <th>Temperature</th>\n",
       "      <th>Dew Point</th>\n",
       "      <th>Relative Humidity</th>\n",
       "      <th>Wind Speed</th>\n",
       "      <th>Precipitation</th>\n",
       "      <th>Precipitation Cover</th>\n",
       "      <th>Visibility</th>\n",
       "    </tr>\n",
       "  </thead>\n",
       "  <tbody>\n",
       "    <tr>\n",
       "      <th>0</th>\n",
       "      <td>2008</td>\n",
       "      <td>1</td>\n",
       "      <td>3</td>\n",
       "      <td>4</td>\n",
       "      <td>1829.0</td>\n",
       "      <td>1755</td>\n",
       "      <td>1959.0</td>\n",
       "      <td>1925</td>\n",
       "      <td>WN</td>\n",
       "      <td>N464WN</td>\n",
       "      <td>...</td>\n",
       "      <td>Indianapolis</td>\n",
       "      <td>17</td>\n",
       "      <td>2008-01-03 17:00:00</td>\n",
       "      <td>16.6</td>\n",
       "      <td>8.8</td>\n",
       "      <td>70.99</td>\n",
       "      <td>8.1</td>\n",
       "      <td>0.0</td>\n",
       "      <td>0.0</td>\n",
       "      <td>10.0</td>\n",
       "    </tr>\n",
       "    <tr>\n",
       "      <th>1</th>\n",
       "      <td>2008</td>\n",
       "      <td>1</td>\n",
       "      <td>3</td>\n",
       "      <td>4</td>\n",
       "      <td>1749.0</td>\n",
       "      <td>1705</td>\n",
       "      <td>1933.0</td>\n",
       "      <td>1844</td>\n",
       "      <td>EV</td>\n",
       "      <td>N750EV</td>\n",
       "      <td>...</td>\n",
       "      <td>Indianapolis</td>\n",
       "      <td>17</td>\n",
       "      <td>2008-01-03 17:00:00</td>\n",
       "      <td>16.6</td>\n",
       "      <td>8.8</td>\n",
       "      <td>70.99</td>\n",
       "      <td>8.1</td>\n",
       "      <td>0.0</td>\n",
       "      <td>0.0</td>\n",
       "      <td>10.0</td>\n",
       "    </tr>\n",
       "    <tr>\n",
       "      <th>2</th>\n",
       "      <td>2008</td>\n",
       "      <td>1</td>\n",
       "      <td>3</td>\n",
       "      <td>4</td>\n",
       "      <td>2108.0</td>\n",
       "      <td>1740</td>\n",
       "      <td>2251.0</td>\n",
       "      <td>1930</td>\n",
       "      <td>9E</td>\n",
       "      <td>80209E</td>\n",
       "      <td>...</td>\n",
       "      <td>Indianapolis</td>\n",
       "      <td>17</td>\n",
       "      <td>2008-01-03 17:00:00</td>\n",
       "      <td>16.6</td>\n",
       "      <td>8.8</td>\n",
       "      <td>70.99</td>\n",
       "      <td>8.1</td>\n",
       "      <td>0.0</td>\n",
       "      <td>0.0</td>\n",
       "      <td>10.0</td>\n",
       "    </tr>\n",
       "    <tr>\n",
       "      <th>3</th>\n",
       "      <td>2008</td>\n",
       "      <td>1</td>\n",
       "      <td>3</td>\n",
       "      <td>4</td>\n",
       "      <td>1937.0</td>\n",
       "      <td>1830</td>\n",
       "      <td>2037.0</td>\n",
       "      <td>1940</td>\n",
       "      <td>WN</td>\n",
       "      <td>N763SW</td>\n",
       "      <td>...</td>\n",
       "      <td>Indianapolis</td>\n",
       "      <td>18</td>\n",
       "      <td>2008-01-03 18:00:00</td>\n",
       "      <td>19.1</td>\n",
       "      <td>10.1</td>\n",
       "      <td>67.40</td>\n",
       "      <td>7.7</td>\n",
       "      <td>0.0</td>\n",
       "      <td>0.0</td>\n",
       "      <td>10.0</td>\n",
       "    </tr>\n",
       "    <tr>\n",
       "      <th>4</th>\n",
       "      <td>2008</td>\n",
       "      <td>1</td>\n",
       "      <td>3</td>\n",
       "      <td>4</td>\n",
       "      <td>1845.0</td>\n",
       "      <td>1841</td>\n",
       "      <td>1955.0</td>\n",
       "      <td>1931</td>\n",
       "      <td>NW</td>\n",
       "      <td>N780NC</td>\n",
       "      <td>...</td>\n",
       "      <td>Indianapolis</td>\n",
       "      <td>18</td>\n",
       "      <td>2008-01-03 18:00:00</td>\n",
       "      <td>19.1</td>\n",
       "      <td>10.1</td>\n",
       "      <td>67.40</td>\n",
       "      <td>7.7</td>\n",
       "      <td>0.0</td>\n",
       "      <td>0.0</td>\n",
       "      <td>10.0</td>\n",
       "    </tr>\n",
       "  </tbody>\n",
       "</table>\n",
       "<p>5 rows × 33 columns</p>\n",
       "</div>"
      ],
      "text/plain": [
       "   Year  Month  DayofMonth  DayOfWeek  DepTime  CRSDepTime  ArrTime  \\\n",
       "0  2008      1           3          4   1829.0        1755   1959.0   \n",
       "1  2008      1           3          4   1749.0        1705   1933.0   \n",
       "2  2008      1           3          4   2108.0        1740   2251.0   \n",
       "3  2008      1           3          4   1937.0        1830   2037.0   \n",
       "4  2008      1           3          4   1845.0        1841   1955.0   \n",
       "\n",
       "   CRSArrTime UniqueCarrier TailNum  ...          City  Hour  \\\n",
       "0        1925            WN  N464WN  ...  Indianapolis    17   \n",
       "1        1844            EV  N750EV  ...  Indianapolis    17   \n",
       "2        1930            9E  80209E  ...  Indianapolis    17   \n",
       "3        1940            WN  N763SW  ...  Indianapolis    18   \n",
       "4        1931            NW  N780NC  ...  Indianapolis    18   \n",
       "\n",
       "            Start_Date  Temperature  Dew Point Relative Humidity Wind Speed  \\\n",
       "0  2008-01-03 17:00:00         16.6        8.8             70.99        8.1   \n",
       "1  2008-01-03 17:00:00         16.6        8.8             70.99        8.1   \n",
       "2  2008-01-03 17:00:00         16.6        8.8             70.99        8.1   \n",
       "3  2008-01-03 18:00:00         19.1       10.1             67.40        7.7   \n",
       "4  2008-01-03 18:00:00         19.1       10.1             67.40        7.7   \n",
       "\n",
       "   Precipitation  Precipitation Cover  Visibility  \n",
       "0            0.0                  0.0        10.0  \n",
       "1            0.0                  0.0        10.0  \n",
       "2            0.0                  0.0        10.0  \n",
       "3            0.0                  0.0        10.0  \n",
       "4            0.0                  0.0        10.0  \n",
       "\n",
       "[5 rows x 33 columns]"
      ]
     },
     "execution_count": 9,
     "metadata": {},
     "output_type": "execute_result"
    }
   ],
   "source": [
    "df_jointed.head()"
   ]
  },
  {
   "cell_type": "code",
   "execution_count": 10,
   "metadata": {},
   "outputs": [
    {
     "data": {
      "text/plain": [
       "Index(['Year', 'Month', 'DayofMonth', 'DayOfWeek', 'DepTime', 'CRSDepTime',\n",
       "       'ArrTime', 'CRSArrTime', 'UniqueCarrier', 'TailNum',\n",
       "       'ActualElapsedTime', 'CRSElapsedTime', 'AirTime', 'ArrDelay',\n",
       "       'DepDelay', 'Origin', 'Dest', 'Distance', 'CarrierDelay',\n",
       "       'WeatherDelay', 'NASDelay', 'SecurityDelay', 'LateAircraftDelay',\n",
       "       'City', 'Hour', 'Start_Date', 'Temperature', 'Dew Point',\n",
       "       'Relative Humidity', 'Wind Speed', 'Precipitation',\n",
       "       'Precipitation Cover', 'Visibility'],\n",
       "      dtype='object')"
      ]
     },
     "execution_count": 10,
     "metadata": {},
     "output_type": "execute_result"
    }
   ],
   "source": [
    "df_jointed.columns"
   ]
  },
  {
   "cell_type": "code",
   "execution_count": 11,
   "metadata": {
    "scrolled": true
   },
   "outputs": [
    {
     "data": {
      "text/plain": [
       "ATL    104783\n",
       "ORD    104155\n",
       "DFW     70405\n",
       "DEN     55264\n",
       "EWR     45443\n",
       "DTW     41082\n",
       "IAH     40142\n",
       "LAX     39778\n",
       "PHX     36034\n",
       "JFK     35102\n",
       "LAS     34416\n",
       "LGA     31884\n",
       "MSP     30009\n",
       "CLT     29646\n",
       "BOS     27944\n",
       "MCO     26488\n",
       "PHL     25116\n",
       "SLC     21801\n",
       "CVG     21112\n",
       "SEA     21093\n",
       "IAD     20242\n",
       "MIA     18784\n",
       "MDW     18593\n",
       "DCA     16926\n",
       "SAN     16501\n",
       "MEM     15969\n",
       "FLL     15540\n",
       "TPA     14816\n",
       "CLE     14039\n",
       "RDU     12974\n",
       "HOU     12091\n",
       "BNA     12024\n",
       "MCI     11726\n",
       "DAL     11256\n",
       "MKE      9894\n",
       "PIT      9593\n",
       "OAK      9411\n",
       "AUS      8993\n",
       "PDX      8763\n",
       "IND      8548\n",
       "PWM      1732\n",
       "SFO        25\n",
       "Name: Origin, dtype: int64"
      ]
     },
     "execution_count": 11,
     "metadata": {},
     "output_type": "execute_result"
    }
   ],
   "source": [
    "df_jointed['Origin'].value_counts()"
   ]
  },
  {
   "cell_type": "code",
   "execution_count": 12,
   "metadata": {
    "scrolled": true
   },
   "outputs": [
    {
     "data": {
      "text/plain": [
       "ORD    50788\n",
       "ATL    44357\n",
       "EWR    32405\n",
       "LAX    32131\n",
       "DFW    31393\n",
       "LGA    31316\n",
       "DEN    30099\n",
       "SFO    27712\n",
       "LAS    25302\n",
       "PHX    23388\n",
       "BOS    23186\n",
       "JFK    22714\n",
       "MCO    21444\n",
       "IAH    21399\n",
       "PHL    20311\n",
       "CLT    18734\n",
       "MSP    17964\n",
       "DTW    17658\n",
       "SEA    17090\n",
       "DCA    15179\n",
       "MIA    14631\n",
       "SAN    14347\n",
       "BWI    13703\n",
       "FLL    13476\n",
       "SLC    12977\n",
       "TPA    12921\n",
       "IAD    12773\n",
       "RDU    12550\n",
       "MCI    11484\n",
       "STL    11369\n",
       "       ...  \n",
       "RKS      116\n",
       "MOD       88\n",
       "OTH       69\n",
       "BTM       67\n",
       "MKG       67\n",
       "IYK       65\n",
       "YKM       64\n",
       "IPL       63\n",
       "CDC       63\n",
       "ACV       59\n",
       "ALO       52\n",
       "LWS       51\n",
       "CMX       50\n",
       "RFD       50\n",
       "BPT       47\n",
       "PLN       41\n",
       "RHI       34\n",
       "LMT       32\n",
       "TEX       28\n",
       "LWB       27\n",
       "ACY       25\n",
       "HTS       23\n",
       "SIT       22\n",
       "SUX       21\n",
       "ITH       20\n",
       "WYS       20\n",
       "BLI       12\n",
       "INL       10\n",
       "BJI        4\n",
       "PIR        1\n",
       "Name: Dest, Length: 282, dtype: int64"
      ]
     },
     "execution_count": 12,
     "metadata": {},
     "output_type": "execute_result"
    }
   ],
   "source": [
    "df_jointed['Dest'].value_counts()"
   ]
  },
  {
   "cell_type": "code",
   "execution_count": 13,
   "metadata": {},
   "outputs": [
    {
     "name": "stdout",
     "output_type": "stream",
     "text": [
      "Il y'a 282 aéroports (departs et arrivées confondus) :\n",
      "ORD    154943\n",
      "ATL    149140\n",
      "DFW    101798\n",
      "DEN     85363\n",
      "EWR     77848\n",
      "LAX     71909\n",
      "LGA     63200\n",
      "IAH     61541\n",
      "LAS     59718\n",
      "PHX     59422\n",
      "DTW     58740\n",
      "JFK     57816\n",
      "BOS     51130\n",
      "CLT     48380\n",
      "MSP     47973\n",
      "MCO     47932\n",
      "PHL     45427\n",
      "SEA     38183\n",
      "SLC     34778\n",
      "MIA     33415\n",
      "IAD     33015\n",
      "DCA     32105\n",
      "CVG     32045\n",
      "SAN     30848\n",
      "FLL     29016\n",
      "MDW     28952\n",
      "TPA     27737\n",
      "SFO     27737\n",
      "RDU     25524\n",
      "MEM     25269\n",
      "        ...  \n",
      "RKS       116\n",
      "MOD        88\n",
      "OTH        69\n",
      "BTM        67\n",
      "MKG        67\n",
      "IYK        65\n",
      "YKM        64\n",
      "CDC        63\n",
      "IPL        63\n",
      "ACV        59\n",
      "ALO        52\n",
      "LWS        51\n",
      "CMX        50\n",
      "RFD        50\n",
      "BPT        47\n",
      "PLN        41\n",
      "RHI        34\n",
      "LMT        32\n",
      "TEX        28\n",
      "LWB        27\n",
      "ACY        25\n",
      "HTS        23\n",
      "SIT        22\n",
      "SUX        21\n",
      "ITH        20\n",
      "WYS        20\n",
      "BLI        12\n",
      "INL        10\n",
      "BJI         4\n",
      "PIR         1\n",
      "Name: aeroport, Length: 282, dtype: int64\n"
     ]
    },
    {
     "data": {
      "text/html": [
       "<div>\n",
       "<style scoped>\n",
       "    .dataframe tbody tr th:only-of-type {\n",
       "        vertical-align: middle;\n",
       "    }\n",
       "\n",
       "    .dataframe tbody tr th {\n",
       "        vertical-align: top;\n",
       "    }\n",
       "\n",
       "    .dataframe thead th {\n",
       "        text-align: right;\n",
       "    }\n",
       "</style>\n",
       "<table border=\"1\" class=\"dataframe\">\n",
       "  <thead>\n",
       "    <tr style=\"text-align: right;\">\n",
       "      <th></th>\n",
       "      <th>aeroport</th>\n",
       "    </tr>\n",
       "  </thead>\n",
       "  <tbody>\n",
       "    <tr>\n",
       "      <th>0</th>\n",
       "      <td>IND</td>\n",
       "    </tr>\n",
       "    <tr>\n",
       "      <th>1</th>\n",
       "      <td>IND</td>\n",
       "    </tr>\n",
       "    <tr>\n",
       "      <th>2</th>\n",
       "      <td>IND</td>\n",
       "    </tr>\n",
       "    <tr>\n",
       "      <th>3</th>\n",
       "      <td>IND</td>\n",
       "    </tr>\n",
       "    <tr>\n",
       "      <th>4</th>\n",
       "      <td>IND</td>\n",
       "    </tr>\n",
       "    <tr>\n",
       "      <th>5</th>\n",
       "      <td>IND</td>\n",
       "    </tr>\n",
       "    <tr>\n",
       "      <th>6</th>\n",
       "      <td>IND</td>\n",
       "    </tr>\n",
       "    <tr>\n",
       "      <th>7</th>\n",
       "      <td>IND</td>\n",
       "    </tr>\n",
       "    <tr>\n",
       "      <th>8</th>\n",
       "      <td>IND</td>\n",
       "    </tr>\n",
       "    <tr>\n",
       "      <th>9</th>\n",
       "      <td>IND</td>\n",
       "    </tr>\n",
       "    <tr>\n",
       "      <th>10</th>\n",
       "      <td>IND</td>\n",
       "    </tr>\n",
       "    <tr>\n",
       "      <th>11</th>\n",
       "      <td>IND</td>\n",
       "    </tr>\n",
       "    <tr>\n",
       "      <th>12</th>\n",
       "      <td>IND</td>\n",
       "    </tr>\n",
       "    <tr>\n",
       "      <th>13</th>\n",
       "      <td>IND</td>\n",
       "    </tr>\n",
       "    <tr>\n",
       "      <th>14</th>\n",
       "      <td>IND</td>\n",
       "    </tr>\n",
       "    <tr>\n",
       "      <th>15</th>\n",
       "      <td>IND</td>\n",
       "    </tr>\n",
       "    <tr>\n",
       "      <th>16</th>\n",
       "      <td>IND</td>\n",
       "    </tr>\n",
       "    <tr>\n",
       "      <th>17</th>\n",
       "      <td>IND</td>\n",
       "    </tr>\n",
       "    <tr>\n",
       "      <th>18</th>\n",
       "      <td>IND</td>\n",
       "    </tr>\n",
       "    <tr>\n",
       "      <th>19</th>\n",
       "      <td>IND</td>\n",
       "    </tr>\n",
       "    <tr>\n",
       "      <th>20</th>\n",
       "      <td>IND</td>\n",
       "    </tr>\n",
       "    <tr>\n",
       "      <th>21</th>\n",
       "      <td>IND</td>\n",
       "    </tr>\n",
       "    <tr>\n",
       "      <th>22</th>\n",
       "      <td>IND</td>\n",
       "    </tr>\n",
       "    <tr>\n",
       "      <th>23</th>\n",
       "      <td>IND</td>\n",
       "    </tr>\n",
       "    <tr>\n",
       "      <th>24</th>\n",
       "      <td>IND</td>\n",
       "    </tr>\n",
       "    <tr>\n",
       "      <th>25</th>\n",
       "      <td>IND</td>\n",
       "    </tr>\n",
       "    <tr>\n",
       "      <th>26</th>\n",
       "      <td>IND</td>\n",
       "    </tr>\n",
       "    <tr>\n",
       "      <th>27</th>\n",
       "      <td>IND</td>\n",
       "    </tr>\n",
       "    <tr>\n",
       "      <th>28</th>\n",
       "      <td>IND</td>\n",
       "    </tr>\n",
       "    <tr>\n",
       "      <th>29</th>\n",
       "      <td>IND</td>\n",
       "    </tr>\n",
       "    <tr>\n",
       "      <th>...</th>\n",
       "      <td>...</td>\n",
       "    </tr>\n",
       "    <tr>\n",
       "      <th>1110107</th>\n",
       "      <td>BOS</td>\n",
       "    </tr>\n",
       "    <tr>\n",
       "      <th>1110108</th>\n",
       "      <td>LGA</td>\n",
       "    </tr>\n",
       "    <tr>\n",
       "      <th>1110109</th>\n",
       "      <td>TPA</td>\n",
       "    </tr>\n",
       "    <tr>\n",
       "      <th>1110110</th>\n",
       "      <td>TPA</td>\n",
       "    </tr>\n",
       "    <tr>\n",
       "      <th>1110111</th>\n",
       "      <td>TPA</td>\n",
       "    </tr>\n",
       "    <tr>\n",
       "      <th>1110112</th>\n",
       "      <td>TPA</td>\n",
       "    </tr>\n",
       "    <tr>\n",
       "      <th>1110113</th>\n",
       "      <td>ATL</td>\n",
       "    </tr>\n",
       "    <tr>\n",
       "      <th>1110114</th>\n",
       "      <td>SJU</td>\n",
       "    </tr>\n",
       "    <tr>\n",
       "      <th>1110115</th>\n",
       "      <td>LGA</td>\n",
       "    </tr>\n",
       "    <tr>\n",
       "      <th>1110116</th>\n",
       "      <td>SJU</td>\n",
       "    </tr>\n",
       "    <tr>\n",
       "      <th>1110117</th>\n",
       "      <td>LGA</td>\n",
       "    </tr>\n",
       "    <tr>\n",
       "      <th>1110118</th>\n",
       "      <td>LGA</td>\n",
       "    </tr>\n",
       "    <tr>\n",
       "      <th>1110119</th>\n",
       "      <td>ATL</td>\n",
       "    </tr>\n",
       "    <tr>\n",
       "      <th>1110120</th>\n",
       "      <td>LGA</td>\n",
       "    </tr>\n",
       "    <tr>\n",
       "      <th>1110121</th>\n",
       "      <td>DFW</td>\n",
       "    </tr>\n",
       "    <tr>\n",
       "      <th>1110122</th>\n",
       "      <td>DFW</td>\n",
       "    </tr>\n",
       "    <tr>\n",
       "      <th>1110123</th>\n",
       "      <td>DTW</td>\n",
       "    </tr>\n",
       "    <tr>\n",
       "      <th>1110124</th>\n",
       "      <td>EWR</td>\n",
       "    </tr>\n",
       "    <tr>\n",
       "      <th>1110125</th>\n",
       "      <td>EWR</td>\n",
       "    </tr>\n",
       "    <tr>\n",
       "      <th>1110126</th>\n",
       "      <td>SEA</td>\n",
       "    </tr>\n",
       "    <tr>\n",
       "      <th>1110127</th>\n",
       "      <td>EWR</td>\n",
       "    </tr>\n",
       "    <tr>\n",
       "      <th>1110128</th>\n",
       "      <td>DFW</td>\n",
       "    </tr>\n",
       "    <tr>\n",
       "      <th>1110129</th>\n",
       "      <td>IAH</td>\n",
       "    </tr>\n",
       "    <tr>\n",
       "      <th>1110130</th>\n",
       "      <td>ATL</td>\n",
       "    </tr>\n",
       "    <tr>\n",
       "      <th>1110131</th>\n",
       "      <td>ATL</td>\n",
       "    </tr>\n",
       "    <tr>\n",
       "      <th>1110132</th>\n",
       "      <td>ATL</td>\n",
       "    </tr>\n",
       "    <tr>\n",
       "      <th>1110133</th>\n",
       "      <td>JFK</td>\n",
       "    </tr>\n",
       "    <tr>\n",
       "      <th>1110134</th>\n",
       "      <td>ATL</td>\n",
       "    </tr>\n",
       "    <tr>\n",
       "      <th>1110135</th>\n",
       "      <td>ATL</td>\n",
       "    </tr>\n",
       "    <tr>\n",
       "      <th>1110136</th>\n",
       "      <td>ATL</td>\n",
       "    </tr>\n",
       "  </tbody>\n",
       "</table>\n",
       "<p>2220274 rows × 1 columns</p>\n",
       "</div>"
      ],
      "text/plain": [
       "        aeroport\n",
       "0            IND\n",
       "1            IND\n",
       "2            IND\n",
       "3            IND\n",
       "4            IND\n",
       "5            IND\n",
       "6            IND\n",
       "7            IND\n",
       "8            IND\n",
       "9            IND\n",
       "10           IND\n",
       "11           IND\n",
       "12           IND\n",
       "13           IND\n",
       "14           IND\n",
       "15           IND\n",
       "16           IND\n",
       "17           IND\n",
       "18           IND\n",
       "19           IND\n",
       "20           IND\n",
       "21           IND\n",
       "22           IND\n",
       "23           IND\n",
       "24           IND\n",
       "25           IND\n",
       "26           IND\n",
       "27           IND\n",
       "28           IND\n",
       "29           IND\n",
       "...          ...\n",
       "1110107      BOS\n",
       "1110108      LGA\n",
       "1110109      TPA\n",
       "1110110      TPA\n",
       "1110111      TPA\n",
       "1110112      TPA\n",
       "1110113      ATL\n",
       "1110114      SJU\n",
       "1110115      LGA\n",
       "1110116      SJU\n",
       "1110117      LGA\n",
       "1110118      LGA\n",
       "1110119      ATL\n",
       "1110120      LGA\n",
       "1110121      DFW\n",
       "1110122      DFW\n",
       "1110123      DTW\n",
       "1110124      EWR\n",
       "1110125      EWR\n",
       "1110126      SEA\n",
       "1110127      EWR\n",
       "1110128      DFW\n",
       "1110129      IAH\n",
       "1110130      ATL\n",
       "1110131      ATL\n",
       "1110132      ATL\n",
       "1110133      JFK\n",
       "1110134      ATL\n",
       "1110135      ATL\n",
       "1110136      ATL\n",
       "\n",
       "[2220274 rows x 1 columns]"
      ]
     },
     "execution_count": 13,
     "metadata": {},
     "output_type": "execute_result"
    }
   ],
   "source": [
    "dep=df_jointed['Origin']\n",
    "dest=df_jointed['Dest']\n",
    "depart=pd.DataFrame(dep)\n",
    "depart.columns=['aeroport']\n",
    "arrivee=pd.DataFrame(dest)\n",
    "arrivee.columns=['aeroport']\n",
    "combinaison=pd.concat([depart, arrivee], join = 'inner')\n",
    "\n",
    "print(\"Il y'a\",len(combinaison['aeroport'].value_counts().values),\"aéroports (departs et arrivées confondus) :\")\n",
    "print(combinaison['aeroport'].value_counts())\n",
    "combinaison"
   ]
  },
  {
   "cell_type": "code",
   "execution_count": 14,
   "metadata": {},
   "outputs": [
    {
     "data": {
      "text/plain": [
       "884882"
      ]
     },
     "execution_count": 14,
     "metadata": {},
     "output_type": "execute_result"
    }
   ],
   "source": [
    "combinaison['aeroport'].value_counts()[:10].sum()"
   ]
  },
  {
   "cell_type": "markdown",
   "metadata": {},
   "source": [
    "# Data Prepocessing"
   ]
  },
  {
   "cell_type": "code",
   "execution_count": 15,
   "metadata": {},
   "outputs": [],
   "source": [
    "def fill(x):\n",
    "    if x<30:\n",
    "        return 0\n",
    "    else: \n",
    "        return 1"
   ]
  },
  {
   "cell_type": "code",
   "execution_count": 16,
   "metadata": {},
   "outputs": [],
   "source": [
    "meteo=df_jointed.loc[:,['Month','TailNum','Origin','Dest','Distance','Temperature','Dew Point','Relative Humidity','Wind Speed','Visibility','WeatherDelay']]"
   ]
  },
  {
   "cell_type": "code",
   "execution_count": 17,
   "metadata": {},
   "outputs": [],
   "source": [
    "meteo['WeatherDelay_30']= meteo['WeatherDelay'].apply(lambda x : fill(x))"
   ]
  },
  {
   "cell_type": "code",
   "execution_count": 18,
   "metadata": {
    "scrolled": true
   },
   "outputs": [
    {
     "data": {
      "text/html": [
       "<div>\n",
       "<style scoped>\n",
       "    .dataframe tbody tr th:only-of-type {\n",
       "        vertical-align: middle;\n",
       "    }\n",
       "\n",
       "    .dataframe tbody tr th {\n",
       "        vertical-align: top;\n",
       "    }\n",
       "\n",
       "    .dataframe thead th {\n",
       "        text-align: right;\n",
       "    }\n",
       "</style>\n",
       "<table border=\"1\" class=\"dataframe\">\n",
       "  <thead>\n",
       "    <tr style=\"text-align: right;\">\n",
       "      <th></th>\n",
       "      <th>Month</th>\n",
       "      <th>TailNum</th>\n",
       "      <th>Origin</th>\n",
       "      <th>Dest</th>\n",
       "      <th>Distance</th>\n",
       "      <th>Temperature</th>\n",
       "      <th>Dew Point</th>\n",
       "      <th>Relative Humidity</th>\n",
       "      <th>Wind Speed</th>\n",
       "      <th>Visibility</th>\n",
       "      <th>WeatherDelay</th>\n",
       "      <th>WeatherDelay_30</th>\n",
       "    </tr>\n",
       "  </thead>\n",
       "  <tbody>\n",
       "    <tr>\n",
       "      <th>0</th>\n",
       "      <td>1</td>\n",
       "      <td>N464WN</td>\n",
       "      <td>IND</td>\n",
       "      <td>BWI</td>\n",
       "      <td>515</td>\n",
       "      <td>16.6</td>\n",
       "      <td>8.8</td>\n",
       "      <td>70.99</td>\n",
       "      <td>8.1</td>\n",
       "      <td>10.0</td>\n",
       "      <td>0.0</td>\n",
       "      <td>0</td>\n",
       "    </tr>\n",
       "    <tr>\n",
       "      <th>1</th>\n",
       "      <td>1</td>\n",
       "      <td>N750EV</td>\n",
       "      <td>IND</td>\n",
       "      <td>ATL</td>\n",
       "      <td>432</td>\n",
       "      <td>16.6</td>\n",
       "      <td>8.8</td>\n",
       "      <td>70.99</td>\n",
       "      <td>8.1</td>\n",
       "      <td>10.0</td>\n",
       "      <td>0.0</td>\n",
       "      <td>0</td>\n",
       "    </tr>\n",
       "    <tr>\n",
       "      <th>2</th>\n",
       "      <td>1</td>\n",
       "      <td>80209E</td>\n",
       "      <td>IND</td>\n",
       "      <td>DCA</td>\n",
       "      <td>499</td>\n",
       "      <td>16.6</td>\n",
       "      <td>8.8</td>\n",
       "      <td>70.99</td>\n",
       "      <td>8.1</td>\n",
       "      <td>10.0</td>\n",
       "      <td>0.0</td>\n",
       "      <td>0</td>\n",
       "    </tr>\n",
       "    <tr>\n",
       "      <th>3</th>\n",
       "      <td>1</td>\n",
       "      <td>N763SW</td>\n",
       "      <td>IND</td>\n",
       "      <td>LAS</td>\n",
       "      <td>1591</td>\n",
       "      <td>19.1</td>\n",
       "      <td>10.1</td>\n",
       "      <td>67.40</td>\n",
       "      <td>7.7</td>\n",
       "      <td>10.0</td>\n",
       "      <td>0.0</td>\n",
       "      <td>0</td>\n",
       "    </tr>\n",
       "    <tr>\n",
       "      <th>4</th>\n",
       "      <td>1</td>\n",
       "      <td>N780NC</td>\n",
       "      <td>IND</td>\n",
       "      <td>MSP</td>\n",
       "      <td>503</td>\n",
       "      <td>19.1</td>\n",
       "      <td>10.1</td>\n",
       "      <td>67.40</td>\n",
       "      <td>7.7</td>\n",
       "      <td>10.0</td>\n",
       "      <td>0.0</td>\n",
       "      <td>0</td>\n",
       "    </tr>\n",
       "  </tbody>\n",
       "</table>\n",
       "</div>"
      ],
      "text/plain": [
       "   Month TailNum Origin Dest  Distance  Temperature  Dew Point  \\\n",
       "0      1  N464WN    IND  BWI       515         16.6        8.8   \n",
       "1      1  N750EV    IND  ATL       432         16.6        8.8   \n",
       "2      1  80209E    IND  DCA       499         16.6        8.8   \n",
       "3      1  N763SW    IND  LAS      1591         19.1       10.1   \n",
       "4      1  N780NC    IND  MSP       503         19.1       10.1   \n",
       "\n",
       "   Relative Humidity  Wind Speed  Visibility  WeatherDelay  WeatherDelay_30  \n",
       "0              70.99         8.1        10.0           0.0                0  \n",
       "1              70.99         8.1        10.0           0.0                0  \n",
       "2              70.99         8.1        10.0           0.0                0  \n",
       "3              67.40         7.7        10.0           0.0                0  \n",
       "4              67.40         7.7        10.0           0.0                0  "
      ]
     },
     "execution_count": 18,
     "metadata": {},
     "output_type": "execute_result"
    }
   ],
   "source": [
    "meteo.head()"
   ]
  },
  {
   "cell_type": "code",
   "execution_count": 19,
   "metadata": {},
   "outputs": [
    {
     "data": {
      "text/plain": [
       "\"meteo= meteo[(meteo['Origin']=='ATL')|(meteo['Origin']=='ORD')|(meteo['Origin']=='EWR')|(meteo['Origin']=='DFW')|\\n            (meteo['Origin']=='DEN')| (meteo['Dest']=='ATL')|(meteo['Dest']=='ORD')|\\n            (meteo['Dest']=='EWR')|(meteo['Dest']=='DFW')|(meteo['Dest']=='DEN')]\""
      ]
     },
     "execution_count": 19,
     "metadata": {},
     "output_type": "execute_result"
    }
   ],
   "source": [
    "'''meteo= meteo[(meteo['Origin']=='ATL')|(meteo['Origin']=='ORD')|(meteo['Origin']=='EWR')|(meteo['Origin']=='DFW')|\n",
    "            (meteo['Origin']=='DEN')| (meteo['Dest']=='ATL')|(meteo['Dest']=='ORD')|\n",
    "            (meteo['Dest']=='EWR')|(meteo['Dest']=='DFW')|(meteo['Dest']=='DEN')]'''\n",
    "\n",
    "#|(meteo['Origin']=='LAX')|(meteo['Origin']=='LGA')|(meteo['Origin']=='IAH')|(meteo['Origin']=='LAS')|(meteo['Origin']=='PHX')\n",
    "#|(meteo['Dest']=='LAX')|(meteo['Dest']=='LGA')|(meteo['Dest']=='IAH')|(meteo['Dest']=='LAS')|(meteo['Dest']=='PHX')"
   ]
  },
  {
   "cell_type": "code",
   "execution_count": 20,
   "metadata": {},
   "outputs": [],
   "source": [
    "meteo= meteo[(meteo['Origin']=='ATL')|(meteo['Origin']=='ORD')|(meteo['Origin']=='EWR')|(meteo['Origin']=='DFW')|(meteo['Origin']=='DEN')]"
   ]
  },
  {
   "cell_type": "code",
   "execution_count": 21,
   "metadata": {},
   "outputs": [],
   "source": [
    "meteo=meteo[(meteo['Dest']=='ATL')|(meteo['Dest']=='ORD')|(meteo['Dest']=='EWR')|(meteo['Dest']=='DFW')|(meteo['Dest']=='DEN')]"
   ]
  },
  {
   "cell_type": "code",
   "execution_count": 22,
   "metadata": {},
   "outputs": [
    {
     "data": {
      "text/html": [
       "<div>\n",
       "<style scoped>\n",
       "    .dataframe tbody tr th:only-of-type {\n",
       "        vertical-align: middle;\n",
       "    }\n",
       "\n",
       "    .dataframe tbody tr th {\n",
       "        vertical-align: top;\n",
       "    }\n",
       "\n",
       "    .dataframe thead th {\n",
       "        text-align: right;\n",
       "    }\n",
       "</style>\n",
       "<table border=\"1\" class=\"dataframe\">\n",
       "  <thead>\n",
       "    <tr style=\"text-align: right;\">\n",
       "      <th></th>\n",
       "      <th>Month</th>\n",
       "      <th>TailNum</th>\n",
       "      <th>Origin</th>\n",
       "      <th>Dest</th>\n",
       "      <th>Distance</th>\n",
       "      <th>Temperature</th>\n",
       "      <th>Dew Point</th>\n",
       "      <th>Relative Humidity</th>\n",
       "      <th>Wind Speed</th>\n",
       "      <th>Visibility</th>\n",
       "      <th>WeatherDelay</th>\n",
       "      <th>WeatherDelay_30</th>\n",
       "    </tr>\n",
       "  </thead>\n",
       "  <tbody>\n",
       "    <tr>\n",
       "      <th>120980</th>\n",
       "      <td>1</td>\n",
       "      <td>N539UA</td>\n",
       "      <td>ORD</td>\n",
       "      <td>DEN</td>\n",
       "      <td>888</td>\n",
       "      <td>7.1</td>\n",
       "      <td>-0.1</td>\n",
       "      <td>71.61</td>\n",
       "      <td>12.8</td>\n",
       "      <td>9.0</td>\n",
       "      <td>0.0</td>\n",
       "      <td>0</td>\n",
       "    </tr>\n",
       "    <tr>\n",
       "      <th>120991</th>\n",
       "      <td>1</td>\n",
       "      <td>N403AA</td>\n",
       "      <td>ORD</td>\n",
       "      <td>DEN</td>\n",
       "      <td>888</td>\n",
       "      <td>7.1</td>\n",
       "      <td>-0.1</td>\n",
       "      <td>71.61</td>\n",
       "      <td>12.8</td>\n",
       "      <td>9.0</td>\n",
       "      <td>0.0</td>\n",
       "      <td>0</td>\n",
       "    </tr>\n",
       "    <tr>\n",
       "      <th>121009</th>\n",
       "      <td>1</td>\n",
       "      <td>N203UA</td>\n",
       "      <td>ORD</td>\n",
       "      <td>EWR</td>\n",
       "      <td>719</td>\n",
       "      <td>5.5</td>\n",
       "      <td>-1.0</td>\n",
       "      <td>73.76</td>\n",
       "      <td>7.7</td>\n",
       "      <td>10.0</td>\n",
       "      <td>0.0</td>\n",
       "      <td>0</td>\n",
       "    </tr>\n",
       "    <tr>\n",
       "      <th>121017</th>\n",
       "      <td>1</td>\n",
       "      <td>N406AA</td>\n",
       "      <td>ORD</td>\n",
       "      <td>DEN</td>\n",
       "      <td>888</td>\n",
       "      <td>5.5</td>\n",
       "      <td>-1.0</td>\n",
       "      <td>73.76</td>\n",
       "      <td>7.7</td>\n",
       "      <td>10.0</td>\n",
       "      <td>0.0</td>\n",
       "      <td>0</td>\n",
       "    </tr>\n",
       "    <tr>\n",
       "      <th>121045</th>\n",
       "      <td>1</td>\n",
       "      <td>N584UA</td>\n",
       "      <td>ORD</td>\n",
       "      <td>DEN</td>\n",
       "      <td>888</td>\n",
       "      <td>17.0</td>\n",
       "      <td>5.1</td>\n",
       "      <td>58.97</td>\n",
       "      <td>14.8</td>\n",
       "      <td>10.0</td>\n",
       "      <td>0.0</td>\n",
       "      <td>0</td>\n",
       "    </tr>\n",
       "  </tbody>\n",
       "</table>\n",
       "</div>"
      ],
      "text/plain": [
       "        Month TailNum Origin Dest  Distance  Temperature  Dew Point  \\\n",
       "120980      1  N539UA    ORD  DEN       888          7.1       -0.1   \n",
       "120991      1  N403AA    ORD  DEN       888          7.1       -0.1   \n",
       "121009      1  N203UA    ORD  EWR       719          5.5       -1.0   \n",
       "121017      1  N406AA    ORD  DEN       888          5.5       -1.0   \n",
       "121045      1  N584UA    ORD  DEN       888         17.0        5.1   \n",
       "\n",
       "        Relative Humidity  Wind Speed  Visibility  WeatherDelay  \\\n",
       "120980              71.61        12.8         9.0           0.0   \n",
       "120991              71.61        12.8         9.0           0.0   \n",
       "121009              73.76         7.7        10.0           0.0   \n",
       "121017              73.76         7.7        10.0           0.0   \n",
       "121045              58.97        14.8        10.0           0.0   \n",
       "\n",
       "        WeatherDelay_30  \n",
       "120980                0  \n",
       "120991                0  \n",
       "121009                0  \n",
       "121017                0  \n",
       "121045                0  "
      ]
     },
     "execution_count": 22,
     "metadata": {},
     "output_type": "execute_result"
    }
   ],
   "source": [
    "meteo.head()"
   ]
  },
  {
   "cell_type": "code",
   "execution_count": 23,
   "metadata": {},
   "outputs": [
    {
     "data": {
      "text/plain": [
       "(39802, 12)"
      ]
     },
     "execution_count": 23,
     "metadata": {},
     "output_type": "execute_result"
    }
   ],
   "source": [
    "meteo.shape"
   ]
  },
  {
   "cell_type": "code",
   "execution_count": 24,
   "metadata": {},
   "outputs": [],
   "source": [
    "vu1=meteo[(meteo['WeatherDelay']<30)]"
   ]
  },
  {
   "cell_type": "code",
   "execution_count": 25,
   "metadata": {},
   "outputs": [
    {
     "data": {
      "text/plain": [
       "(38906, 12)"
      ]
     },
     "execution_count": 25,
     "metadata": {},
     "output_type": "execute_result"
    }
   ],
   "source": [
    "vu1.shape"
   ]
  },
  {
   "cell_type": "code",
   "execution_count": 26,
   "metadata": {},
   "outputs": [],
   "source": [
    "meteo = pd.get_dummies(meteo, columns=['Origin', 'Dest'])"
   ]
  },
  {
   "cell_type": "code",
   "execution_count": 27,
   "metadata": {},
   "outputs": [
    {
     "data": {
      "text/html": [
       "<div>\n",
       "<style scoped>\n",
       "    .dataframe tbody tr th:only-of-type {\n",
       "        vertical-align: middle;\n",
       "    }\n",
       "\n",
       "    .dataframe tbody tr th {\n",
       "        vertical-align: top;\n",
       "    }\n",
       "\n",
       "    .dataframe thead th {\n",
       "        text-align: right;\n",
       "    }\n",
       "</style>\n",
       "<table border=\"1\" class=\"dataframe\">\n",
       "  <thead>\n",
       "    <tr style=\"text-align: right;\">\n",
       "      <th></th>\n",
       "      <th>Month</th>\n",
       "      <th>TailNum</th>\n",
       "      <th>Distance</th>\n",
       "      <th>Temperature</th>\n",
       "      <th>Dew Point</th>\n",
       "      <th>Relative Humidity</th>\n",
       "      <th>Wind Speed</th>\n",
       "      <th>Visibility</th>\n",
       "      <th>WeatherDelay</th>\n",
       "      <th>WeatherDelay_30</th>\n",
       "      <th>Origin_ATL</th>\n",
       "      <th>Origin_DEN</th>\n",
       "      <th>Origin_DFW</th>\n",
       "      <th>Origin_EWR</th>\n",
       "      <th>Origin_ORD</th>\n",
       "      <th>Dest_ATL</th>\n",
       "      <th>Dest_DEN</th>\n",
       "      <th>Dest_DFW</th>\n",
       "      <th>Dest_EWR</th>\n",
       "      <th>Dest_ORD</th>\n",
       "    </tr>\n",
       "  </thead>\n",
       "  <tbody>\n",
       "    <tr>\n",
       "      <th>120980</th>\n",
       "      <td>1</td>\n",
       "      <td>N539UA</td>\n",
       "      <td>888</td>\n",
       "      <td>7.1</td>\n",
       "      <td>-0.1</td>\n",
       "      <td>71.61</td>\n",
       "      <td>12.8</td>\n",
       "      <td>9.0</td>\n",
       "      <td>0.0</td>\n",
       "      <td>0</td>\n",
       "      <td>0</td>\n",
       "      <td>0</td>\n",
       "      <td>0</td>\n",
       "      <td>0</td>\n",
       "      <td>1</td>\n",
       "      <td>0</td>\n",
       "      <td>1</td>\n",
       "      <td>0</td>\n",
       "      <td>0</td>\n",
       "      <td>0</td>\n",
       "    </tr>\n",
       "    <tr>\n",
       "      <th>120991</th>\n",
       "      <td>1</td>\n",
       "      <td>N403AA</td>\n",
       "      <td>888</td>\n",
       "      <td>7.1</td>\n",
       "      <td>-0.1</td>\n",
       "      <td>71.61</td>\n",
       "      <td>12.8</td>\n",
       "      <td>9.0</td>\n",
       "      <td>0.0</td>\n",
       "      <td>0</td>\n",
       "      <td>0</td>\n",
       "      <td>0</td>\n",
       "      <td>0</td>\n",
       "      <td>0</td>\n",
       "      <td>1</td>\n",
       "      <td>0</td>\n",
       "      <td>1</td>\n",
       "      <td>0</td>\n",
       "      <td>0</td>\n",
       "      <td>0</td>\n",
       "    </tr>\n",
       "    <tr>\n",
       "      <th>121009</th>\n",
       "      <td>1</td>\n",
       "      <td>N203UA</td>\n",
       "      <td>719</td>\n",
       "      <td>5.5</td>\n",
       "      <td>-1.0</td>\n",
       "      <td>73.76</td>\n",
       "      <td>7.7</td>\n",
       "      <td>10.0</td>\n",
       "      <td>0.0</td>\n",
       "      <td>0</td>\n",
       "      <td>0</td>\n",
       "      <td>0</td>\n",
       "      <td>0</td>\n",
       "      <td>0</td>\n",
       "      <td>1</td>\n",
       "      <td>0</td>\n",
       "      <td>0</td>\n",
       "      <td>0</td>\n",
       "      <td>1</td>\n",
       "      <td>0</td>\n",
       "    </tr>\n",
       "    <tr>\n",
       "      <th>121017</th>\n",
       "      <td>1</td>\n",
       "      <td>N406AA</td>\n",
       "      <td>888</td>\n",
       "      <td>5.5</td>\n",
       "      <td>-1.0</td>\n",
       "      <td>73.76</td>\n",
       "      <td>7.7</td>\n",
       "      <td>10.0</td>\n",
       "      <td>0.0</td>\n",
       "      <td>0</td>\n",
       "      <td>0</td>\n",
       "      <td>0</td>\n",
       "      <td>0</td>\n",
       "      <td>0</td>\n",
       "      <td>1</td>\n",
       "      <td>0</td>\n",
       "      <td>1</td>\n",
       "      <td>0</td>\n",
       "      <td>0</td>\n",
       "      <td>0</td>\n",
       "    </tr>\n",
       "    <tr>\n",
       "      <th>121045</th>\n",
       "      <td>1</td>\n",
       "      <td>N584UA</td>\n",
       "      <td>888</td>\n",
       "      <td>17.0</td>\n",
       "      <td>5.1</td>\n",
       "      <td>58.97</td>\n",
       "      <td>14.8</td>\n",
       "      <td>10.0</td>\n",
       "      <td>0.0</td>\n",
       "      <td>0</td>\n",
       "      <td>0</td>\n",
       "      <td>0</td>\n",
       "      <td>0</td>\n",
       "      <td>0</td>\n",
       "      <td>1</td>\n",
       "      <td>0</td>\n",
       "      <td>1</td>\n",
       "      <td>0</td>\n",
       "      <td>0</td>\n",
       "      <td>0</td>\n",
       "    </tr>\n",
       "  </tbody>\n",
       "</table>\n",
       "</div>"
      ],
      "text/plain": [
       "        Month TailNum  Distance  Temperature  Dew Point  Relative Humidity  \\\n",
       "120980      1  N539UA       888          7.1       -0.1              71.61   \n",
       "120991      1  N403AA       888          7.1       -0.1              71.61   \n",
       "121009      1  N203UA       719          5.5       -1.0              73.76   \n",
       "121017      1  N406AA       888          5.5       -1.0              73.76   \n",
       "121045      1  N584UA       888         17.0        5.1              58.97   \n",
       "\n",
       "        Wind Speed  Visibility  WeatherDelay  WeatherDelay_30  Origin_ATL  \\\n",
       "120980        12.8         9.0           0.0                0           0   \n",
       "120991        12.8         9.0           0.0                0           0   \n",
       "121009         7.7        10.0           0.0                0           0   \n",
       "121017         7.7        10.0           0.0                0           0   \n",
       "121045        14.8        10.0           0.0                0           0   \n",
       "\n",
       "        Origin_DEN  Origin_DFW  Origin_EWR  Origin_ORD  Dest_ATL  Dest_DEN  \\\n",
       "120980           0           0           0           1         0         1   \n",
       "120991           0           0           0           1         0         1   \n",
       "121009           0           0           0           1         0         0   \n",
       "121017           0           0           0           1         0         1   \n",
       "121045           0           0           0           1         0         1   \n",
       "\n",
       "        Dest_DFW  Dest_EWR  Dest_ORD  \n",
       "120980         0         0         0  \n",
       "120991         0         0         0  \n",
       "121009         0         1         0  \n",
       "121017         0         0         0  \n",
       "121045         0         0         0  "
      ]
     },
     "execution_count": 27,
     "metadata": {},
     "output_type": "execute_result"
    }
   ],
   "source": [
    "meteo.head()"
   ]
  },
  {
   "cell_type": "code",
   "execution_count": 28,
   "metadata": {},
   "outputs": [
    {
     "data": {
      "text/plain": [
       "(39802, 20)"
      ]
     },
     "execution_count": 28,
     "metadata": {},
     "output_type": "execute_result"
    }
   ],
   "source": [
    "meteo.shape"
   ]
  },
  {
   "cell_type": "code",
   "execution_count": 29,
   "metadata": {},
   "outputs": [],
   "source": [
    "voir=meteo.copy()"
   ]
  },
  {
   "cell_type": "code",
   "execution_count": 30,
   "metadata": {},
   "outputs": [],
   "source": [
    "X=meteo.select_dtypes(include=[object])"
   ]
  },
  {
   "cell_type": "code",
   "execution_count": 31,
   "metadata": {},
   "outputs": [],
   "source": [
    "le = preprocessing.LabelEncoder()"
   ]
  },
  {
   "cell_type": "code",
   "execution_count": 32,
   "metadata": {},
   "outputs": [],
   "source": [
    "X=X.apply(le.fit_transform)"
   ]
  },
  {
   "cell_type": "code",
   "execution_count": 33,
   "metadata": {},
   "outputs": [],
   "source": [
    "X.columns=['TailNumEncod']"
   ]
  },
  {
   "cell_type": "code",
   "execution_count": 34,
   "metadata": {
    "scrolled": true
   },
   "outputs": [
    {
     "data": {
      "text/html": [
       "<div>\n",
       "<style scoped>\n",
       "    .dataframe tbody tr th:only-of-type {\n",
       "        vertical-align: middle;\n",
       "    }\n",
       "\n",
       "    .dataframe tbody tr th {\n",
       "        vertical-align: top;\n",
       "    }\n",
       "\n",
       "    .dataframe thead th {\n",
       "        text-align: right;\n",
       "    }\n",
       "</style>\n",
       "<table border=\"1\" class=\"dataframe\">\n",
       "  <thead>\n",
       "    <tr style=\"text-align: right;\">\n",
       "      <th></th>\n",
       "      <th>TailNumEncod</th>\n",
       "    </tr>\n",
       "  </thead>\n",
       "  <tbody>\n",
       "    <tr>\n",
       "      <th>120980</th>\n",
       "      <td>1111</td>\n",
       "    </tr>\n",
       "    <tr>\n",
       "      <th>120991</th>\n",
       "      <td>739</td>\n",
       "    </tr>\n",
       "    <tr>\n",
       "      <th>121009</th>\n",
       "      <td>297</td>\n",
       "    </tr>\n",
       "    <tr>\n",
       "      <th>121017</th>\n",
       "      <td>745</td>\n",
       "    </tr>\n",
       "    <tr>\n",
       "      <th>121045</th>\n",
       "      <td>1206</td>\n",
       "    </tr>\n",
       "  </tbody>\n",
       "</table>\n",
       "</div>"
      ],
      "text/plain": [
       "        TailNumEncod\n",
       "120980          1111\n",
       "120991           739\n",
       "121009           297\n",
       "121017           745\n",
       "121045          1206"
      ]
     },
     "execution_count": 34,
     "metadata": {},
     "output_type": "execute_result"
    }
   ],
   "source": [
    "X.head()"
   ]
  },
  {
   "cell_type": "code",
   "execution_count": 35,
   "metadata": {},
   "outputs": [],
   "source": [
    "meteo1=pd.concat([meteo, X], axis = 1) "
   ]
  },
  {
   "cell_type": "code",
   "execution_count": 36,
   "metadata": {},
   "outputs": [],
   "source": [
    "meteo1=meteo1.drop(['TailNum', 'Distance', 'WeatherDelay'], axis=1)"
   ]
  },
  {
   "cell_type": "code",
   "execution_count": 37,
   "metadata": {},
   "outputs": [
    {
     "data": {
      "text/html": [
       "<div>\n",
       "<style scoped>\n",
       "    .dataframe tbody tr th:only-of-type {\n",
       "        vertical-align: middle;\n",
       "    }\n",
       "\n",
       "    .dataframe tbody tr th {\n",
       "        vertical-align: top;\n",
       "    }\n",
       "\n",
       "    .dataframe thead th {\n",
       "        text-align: right;\n",
       "    }\n",
       "</style>\n",
       "<table border=\"1\" class=\"dataframe\">\n",
       "  <thead>\n",
       "    <tr style=\"text-align: right;\">\n",
       "      <th></th>\n",
       "      <th>Month</th>\n",
       "      <th>Temperature</th>\n",
       "      <th>Relative Humidity</th>\n",
       "      <th>Wind Speed</th>\n",
       "      <th>Visibility</th>\n",
       "      <th>WeatherDelay_30</th>\n",
       "      <th>Origin_ATL</th>\n",
       "      <th>Origin_DEN</th>\n",
       "      <th>Origin_DFW</th>\n",
       "      <th>Origin_EWR</th>\n",
       "      <th>Origin_ORD</th>\n",
       "      <th>Dest_ATL</th>\n",
       "      <th>Dest_DEN</th>\n",
       "      <th>Dest_DFW</th>\n",
       "      <th>Dest_EWR</th>\n",
       "      <th>Dest_ORD</th>\n",
       "      <th>TailNumEncod</th>\n",
       "    </tr>\n",
       "  </thead>\n",
       "  <tbody>\n",
       "    <tr>\n",
       "      <th>120980</th>\n",
       "      <td>1</td>\n",
       "      <td>7.1</td>\n",
       "      <td>71.61</td>\n",
       "      <td>12.8</td>\n",
       "      <td>9.0</td>\n",
       "      <td>0</td>\n",
       "      <td>0</td>\n",
       "      <td>0</td>\n",
       "      <td>0</td>\n",
       "      <td>0</td>\n",
       "      <td>1</td>\n",
       "      <td>0</td>\n",
       "      <td>1</td>\n",
       "      <td>0</td>\n",
       "      <td>0</td>\n",
       "      <td>0</td>\n",
       "      <td>1111</td>\n",
       "    </tr>\n",
       "    <tr>\n",
       "      <th>120991</th>\n",
       "      <td>1</td>\n",
       "      <td>7.1</td>\n",
       "      <td>71.61</td>\n",
       "      <td>12.8</td>\n",
       "      <td>9.0</td>\n",
       "      <td>0</td>\n",
       "      <td>0</td>\n",
       "      <td>0</td>\n",
       "      <td>0</td>\n",
       "      <td>0</td>\n",
       "      <td>1</td>\n",
       "      <td>0</td>\n",
       "      <td>1</td>\n",
       "      <td>0</td>\n",
       "      <td>0</td>\n",
       "      <td>0</td>\n",
       "      <td>739</td>\n",
       "    </tr>\n",
       "    <tr>\n",
       "      <th>121009</th>\n",
       "      <td>1</td>\n",
       "      <td>5.5</td>\n",
       "      <td>73.76</td>\n",
       "      <td>7.7</td>\n",
       "      <td>10.0</td>\n",
       "      <td>0</td>\n",
       "      <td>0</td>\n",
       "      <td>0</td>\n",
       "      <td>0</td>\n",
       "      <td>0</td>\n",
       "      <td>1</td>\n",
       "      <td>0</td>\n",
       "      <td>0</td>\n",
       "      <td>0</td>\n",
       "      <td>1</td>\n",
       "      <td>0</td>\n",
       "      <td>297</td>\n",
       "    </tr>\n",
       "    <tr>\n",
       "      <th>121017</th>\n",
       "      <td>1</td>\n",
       "      <td>5.5</td>\n",
       "      <td>73.76</td>\n",
       "      <td>7.7</td>\n",
       "      <td>10.0</td>\n",
       "      <td>0</td>\n",
       "      <td>0</td>\n",
       "      <td>0</td>\n",
       "      <td>0</td>\n",
       "      <td>0</td>\n",
       "      <td>1</td>\n",
       "      <td>0</td>\n",
       "      <td>1</td>\n",
       "      <td>0</td>\n",
       "      <td>0</td>\n",
       "      <td>0</td>\n",
       "      <td>745</td>\n",
       "    </tr>\n",
       "    <tr>\n",
       "      <th>121045</th>\n",
       "      <td>1</td>\n",
       "      <td>17.0</td>\n",
       "      <td>58.97</td>\n",
       "      <td>14.8</td>\n",
       "      <td>10.0</td>\n",
       "      <td>0</td>\n",
       "      <td>0</td>\n",
       "      <td>0</td>\n",
       "      <td>0</td>\n",
       "      <td>0</td>\n",
       "      <td>1</td>\n",
       "      <td>0</td>\n",
       "      <td>1</td>\n",
       "      <td>0</td>\n",
       "      <td>0</td>\n",
       "      <td>0</td>\n",
       "      <td>1206</td>\n",
       "    </tr>\n",
       "  </tbody>\n",
       "</table>\n",
       "</div>"
      ],
      "text/plain": [
       "        Month  Temperature  Relative Humidity  Wind Speed  Visibility  \\\n",
       "120980      1          7.1              71.61        12.8         9.0   \n",
       "120991      1          7.1              71.61        12.8         9.0   \n",
       "121009      1          5.5              73.76         7.7        10.0   \n",
       "121017      1          5.5              73.76         7.7        10.0   \n",
       "121045      1         17.0              58.97        14.8        10.0   \n",
       "\n",
       "        WeatherDelay_30  Origin_ATL  Origin_DEN  Origin_DFW  Origin_EWR  \\\n",
       "120980                0           0           0           0           0   \n",
       "120991                0           0           0           0           0   \n",
       "121009                0           0           0           0           0   \n",
       "121017                0           0           0           0           0   \n",
       "121045                0           0           0           0           0   \n",
       "\n",
       "        Origin_ORD  Dest_ATL  Dest_DEN  Dest_DFW  Dest_EWR  Dest_ORD  \\\n",
       "120980           1         0         1         0         0         0   \n",
       "120991           1         0         1         0         0         0   \n",
       "121009           1         0         0         0         1         0   \n",
       "121017           1         0         1         0         0         0   \n",
       "121045           1         0         1         0         0         0   \n",
       "\n",
       "        TailNumEncod  \n",
       "120980          1111  \n",
       "120991           739  \n",
       "121009           297  \n",
       "121017           745  \n",
       "121045          1206  "
      ]
     },
     "execution_count": 37,
     "metadata": {},
     "output_type": "execute_result"
    }
   ],
   "source": [
    "meteo1.head()"
   ]
  },
  {
   "cell_type": "code",
   "execution_count": 38,
   "metadata": {},
   "outputs": [
    {
     "data": {
      "text/plain": [
       "(39802, 17)"
      ]
     },
     "execution_count": 38,
     "metadata": {},
     "output_type": "execute_result"
    }
   ],
   "source": [
    "meteo1.shape"
   ]
  },
  {
   "cell_type": "code",
   "execution_count": 39,
   "metadata": {},
   "outputs": [],
   "source": [
    "#Déplacer la colonne 'WeatherDelay_30' à la fin dataframe\n",
    "df_temp = meteo1.pop('WeatherDelay_30')\n",
    "meteo1['WeatherDelay_30']=df_temp"
   ]
  },
  {
   "cell_type": "code",
   "execution_count": 40,
   "metadata": {},
   "outputs": [
    {
     "data": {
      "text/html": [
       "<div>\n",
       "<style scoped>\n",
       "    .dataframe tbody tr th:only-of-type {\n",
       "        vertical-align: middle;\n",
       "    }\n",
       "\n",
       "    .dataframe tbody tr th {\n",
       "        vertical-align: top;\n",
       "    }\n",
       "\n",
       "    .dataframe thead th {\n",
       "        text-align: right;\n",
       "    }\n",
       "</style>\n",
       "<table border=\"1\" class=\"dataframe\">\n",
       "  <thead>\n",
       "    <tr style=\"text-align: right;\">\n",
       "      <th></th>\n",
       "      <th>Month</th>\n",
       "      <th>Temperature</th>\n",
       "      <th>Relative Humidity</th>\n",
       "      <th>Wind Speed</th>\n",
       "      <th>Visibility</th>\n",
       "      <th>Origin_ATL</th>\n",
       "      <th>Origin_DEN</th>\n",
       "      <th>Origin_DFW</th>\n",
       "      <th>Origin_EWR</th>\n",
       "      <th>Origin_ORD</th>\n",
       "      <th>Dest_ATL</th>\n",
       "      <th>Dest_DEN</th>\n",
       "      <th>Dest_DFW</th>\n",
       "      <th>Dest_EWR</th>\n",
       "      <th>Dest_ORD</th>\n",
       "      <th>TailNumEncod</th>\n",
       "      <th>WeatherDelay_30</th>\n",
       "    </tr>\n",
       "  </thead>\n",
       "  <tbody>\n",
       "    <tr>\n",
       "      <th>120980</th>\n",
       "      <td>1</td>\n",
       "      <td>7.1</td>\n",
       "      <td>71.61</td>\n",
       "      <td>12.8</td>\n",
       "      <td>9.0</td>\n",
       "      <td>0</td>\n",
       "      <td>0</td>\n",
       "      <td>0</td>\n",
       "      <td>0</td>\n",
       "      <td>1</td>\n",
       "      <td>0</td>\n",
       "      <td>1</td>\n",
       "      <td>0</td>\n",
       "      <td>0</td>\n",
       "      <td>0</td>\n",
       "      <td>1111</td>\n",
       "      <td>0</td>\n",
       "    </tr>\n",
       "    <tr>\n",
       "      <th>120991</th>\n",
       "      <td>1</td>\n",
       "      <td>7.1</td>\n",
       "      <td>71.61</td>\n",
       "      <td>12.8</td>\n",
       "      <td>9.0</td>\n",
       "      <td>0</td>\n",
       "      <td>0</td>\n",
       "      <td>0</td>\n",
       "      <td>0</td>\n",
       "      <td>1</td>\n",
       "      <td>0</td>\n",
       "      <td>1</td>\n",
       "      <td>0</td>\n",
       "      <td>0</td>\n",
       "      <td>0</td>\n",
       "      <td>739</td>\n",
       "      <td>0</td>\n",
       "    </tr>\n",
       "    <tr>\n",
       "      <th>121009</th>\n",
       "      <td>1</td>\n",
       "      <td>5.5</td>\n",
       "      <td>73.76</td>\n",
       "      <td>7.7</td>\n",
       "      <td>10.0</td>\n",
       "      <td>0</td>\n",
       "      <td>0</td>\n",
       "      <td>0</td>\n",
       "      <td>0</td>\n",
       "      <td>1</td>\n",
       "      <td>0</td>\n",
       "      <td>0</td>\n",
       "      <td>0</td>\n",
       "      <td>1</td>\n",
       "      <td>0</td>\n",
       "      <td>297</td>\n",
       "      <td>0</td>\n",
       "    </tr>\n",
       "    <tr>\n",
       "      <th>121017</th>\n",
       "      <td>1</td>\n",
       "      <td>5.5</td>\n",
       "      <td>73.76</td>\n",
       "      <td>7.7</td>\n",
       "      <td>10.0</td>\n",
       "      <td>0</td>\n",
       "      <td>0</td>\n",
       "      <td>0</td>\n",
       "      <td>0</td>\n",
       "      <td>1</td>\n",
       "      <td>0</td>\n",
       "      <td>1</td>\n",
       "      <td>0</td>\n",
       "      <td>0</td>\n",
       "      <td>0</td>\n",
       "      <td>745</td>\n",
       "      <td>0</td>\n",
       "    </tr>\n",
       "    <tr>\n",
       "      <th>121045</th>\n",
       "      <td>1</td>\n",
       "      <td>17.0</td>\n",
       "      <td>58.97</td>\n",
       "      <td>14.8</td>\n",
       "      <td>10.0</td>\n",
       "      <td>0</td>\n",
       "      <td>0</td>\n",
       "      <td>0</td>\n",
       "      <td>0</td>\n",
       "      <td>1</td>\n",
       "      <td>0</td>\n",
       "      <td>1</td>\n",
       "      <td>0</td>\n",
       "      <td>0</td>\n",
       "      <td>0</td>\n",
       "      <td>1206</td>\n",
       "      <td>0</td>\n",
       "    </tr>\n",
       "  </tbody>\n",
       "</table>\n",
       "</div>"
      ],
      "text/plain": [
       "        Month  Temperature  Relative Humidity  Wind Speed  Visibility  \\\n",
       "120980      1          7.1              71.61        12.8         9.0   \n",
       "120991      1          7.1              71.61        12.8         9.0   \n",
       "121009      1          5.5              73.76         7.7        10.0   \n",
       "121017      1          5.5              73.76         7.7        10.0   \n",
       "121045      1         17.0              58.97        14.8        10.0   \n",
       "\n",
       "        Origin_ATL  Origin_DEN  Origin_DFW  Origin_EWR  Origin_ORD  Dest_ATL  \\\n",
       "120980           0           0           0           0           1         0   \n",
       "120991           0           0           0           0           1         0   \n",
       "121009           0           0           0           0           1         0   \n",
       "121017           0           0           0           0           1         0   \n",
       "121045           0           0           0           0           1         0   \n",
       "\n",
       "        Dest_DEN  Dest_DFW  Dest_EWR  Dest_ORD  TailNumEncod  WeatherDelay_30  \n",
       "120980         1         0         0         0          1111                0  \n",
       "120991         1         0         0         0           739                0  \n",
       "121009         0         0         1         0           297                0  \n",
       "121017         1         0         0         0           745                0  \n",
       "121045         1         0         0         0          1206                0  "
      ]
     },
     "execution_count": 40,
     "metadata": {},
     "output_type": "execute_result"
    }
   ],
   "source": [
    "meteo1.head()"
   ]
  },
  {
   "cell_type": "code",
   "execution_count": 41,
   "metadata": {},
   "outputs": [
    {
     "data": {
      "text/plain": [
       "(39802, 17)"
      ]
     },
     "execution_count": 41,
     "metadata": {},
     "output_type": "execute_result"
    }
   ],
   "source": [
    "meteo1.shape"
   ]
  },
  {
   "cell_type": "code",
   "execution_count": 42,
   "metadata": {},
   "outputs": [],
   "source": [
    "def plot_corr(corr):\n",
    "    # https://seaborn.pydata.org/examples/many_pairwise_correlations.html\n",
    "    # Generate a mask for the upper triangle\n",
    "    mask = np.zeros_like(corr, dtype=np.bool)\n",
    "    mask[np.triu_indices_from(mask)] = True\n",
    "    \n",
    "    # Generate a custom diverging colormap\n",
    "    cmap = sns.diverging_palette(220, 10, as_cmap=True)\n",
    "\n",
    "    sns.heatmap(corr, mask=mask, cmap=cmap)"
   ]
  },
  {
   "cell_type": "code",
   "execution_count": 43,
   "metadata": {},
   "outputs": [
    {
     "data": {
      "image/png": "[encoded data removed]",
      "text/plain": [
       "<Figure size 432x288 with 2 Axes>"
      ]
     },
     "metadata": {
      "needs_background": "light"
     },
     "output_type": "display_data"
    }
   ],
   "source": [
    "plot_corr(meteo1.corr())"
   ]
  },
  {
   "cell_type": "markdown",
   "metadata": {},
   "source": [
    "# Prediction avec RandomForest +SMOTE"
   ]
  },
  {
   "cell_type": "code",
   "execution_count": 249,
   "metadata": {},
   "outputs": [],
   "source": [
    "X=meteo1.drop('WeatherDelay_30', axis=1)\n",
    "y=meteo1['WeatherDelay_30']"
   ]
  },
  {
   "cell_type": "code",
   "execution_count": 250,
   "metadata": {},
   "outputs": [
    {
     "name": "stdout",
     "output_type": "stream",
     "text": [
      "Original dataset shape Counter({0: 38906, 1: 896})\n"
     ]
    }
   ],
   "source": [
    "from collections import Counter\n",
    "print('Original dataset shape %s' % Counter(y))"
   ]
  },
  {
   "cell_type": "code",
   "execution_count": 251,
   "metadata": {},
   "outputs": [],
   "source": [
    "sm = SMOTE(sampling_strategy=0.3,random_state=42)"
   ]
  },
  {
   "cell_type": "code",
   "execution_count": 252,
   "metadata": {},
   "outputs": [],
   "source": [
    "X_res, y_res = sm.fit_resample(X, y)"
   ]
  },
  {
   "cell_type": "code",
   "execution_count": 253,
   "metadata": {},
   "outputs": [
    {
     "name": "stdout",
     "output_type": "stream",
     "text": [
      "Resampled dataset shape Counter({0: 38906, 1: 11671})\n"
     ]
    }
   ],
   "source": [
    "print('Resampled dataset shape %s' % Counter(y_res))"
   ]
  },
  {
   "cell_type": "code",
   "execution_count": 254,
   "metadata": {},
   "outputs": [],
   "source": [
    "x_train, x_val, y_train, y_val = train_test_split(X_res,y_res, test_size = 0.2,random_state=12)"
   ]
  },
  {
   "cell_type": "code",
   "execution_count": 255,
   "metadata": {},
   "outputs": [
    {
     "data": {
      "text/plain": [
       "RandomForestClassifier(bootstrap=True, ccp_alpha=0.0, class_weight=None,\n",
       "                       criterion='gini', max_depth=None, max_features='auto',\n",
       "                       max_leaf_nodes=None, max_samples=None,\n",
       "                       min_impurity_decrease=0.0, min_impurity_split=None,\n",
       "                       min_samples_leaf=1, min_samples_split=2,\n",
       "                       min_weight_fraction_leaf=0.0, n_estimators=25,\n",
       "                       n_jobs=None, oob_score=False, random_state=12, verbose=0,\n",
       "                       warm_start=False)"
      ]
     },
     "execution_count": 255,
     "metadata": {},
     "output_type": "execute_result"
    }
   ],
   "source": [
    "clf_rf = RandomForestClassifier(n_estimators=25, random_state=12)\n",
    "clf_rf.fit(x_train, y_train)"
   ]
  },
  {
   "cell_type": "code",
   "execution_count": 258,
   "metadata": {},
   "outputs": [
    {
     "name": "stdout",
     "output_type": "stream",
     "text": [
      "Validation Results\n",
      "0.9755832344800316\n"
     ]
    }
   ],
   "source": [
    "print(\"Validation Results\")\n",
    "print(clf_rf.score(x_val, y_val))\n",
    "predicted=clf_rf.predict(x_val)"
   ]
  },
  {
   "cell_type": "code",
   "execution_count": 259,
   "metadata": {},
   "outputs": [
    {
     "data": {
      "text/plain": [
       "array([0.03512666, 0.08069582, 0.06194113, 0.06805929, 0.10874321,\n",
       "       0.04020052, 0.03707688, 0.03591903, 0.04534978, 0.0481984 ,\n",
       "       0.106574  , 0.0584299 , 0.06080952, 0.05071233, 0.05606406,\n",
       "       0.10609948])"
      ]
     },
     "execution_count": 259,
     "metadata": {},
     "output_type": "execute_result"
    }
   ],
   "source": [
    "clf_rf.feature_importances_"
   ]
  },
  {
   "cell_type": "code",
   "execution_count": 260,
   "metadata": {},
   "outputs": [
    {
     "data": {
      "text/plain": [
       "0.9755832344800316"
      ]
     },
     "execution_count": 260,
     "metadata": {},
     "output_type": "execute_result"
    }
   ],
   "source": [
    "clf_rf.score(x_val, y_val)"
   ]
  },
  {
   "cell_type": "code",
   "execution_count": 261,
   "metadata": {},
   "outputs": [],
   "source": [
    "probabilities = clf_rf.predict_proba(x_val)"
   ]
  },
  {
   "cell_type": "code",
   "execution_count": 263,
   "metadata": {},
   "outputs": [
    {
     "data": {
      "text/plain": [
       "array([[0.  , 1.  ],\n",
       "       [0.88, 0.12],\n",
       "       [0.04, 0.96],\n",
       "       ...,\n",
       "       [0.  , 1.  ],\n",
       "       [1.  , 0.  ],\n",
       "       [1.  , 0.  ]])"
      ]
     },
     "execution_count": 263,
     "metadata": {},
     "output_type": "execute_result"
    }
   ],
   "source": [
    "probabilities"
   ]
  },
  {
   "cell_type": "code",
   "execution_count": 264,
   "metadata": {},
   "outputs": [
    {
     "data": {
      "text/plain": [
       "0.9892820059689866"
      ]
     },
     "execution_count": 264,
     "metadata": {},
     "output_type": "execute_result"
    }
   ],
   "source": [
    "roc_auc_score(y_val, probabilities[:, 1])"
   ]
  },
  {
   "cell_type": "code",
   "execution_count": 265,
   "metadata": {},
   "outputs": [
    {
     "data": {
      "text/plain": [
       "Text(0, 0.5, 'True Positive Rate')"
      ]
     },
     "execution_count": 265,
     "metadata": {},
     "output_type": "execute_result"
    },
    {
     "data": {
      "image/png": "[encoded data removed]",
      "text/plain": [
       "<Figure size 432x288 with 1 Axes>"
      ]
     },
     "metadata": {
      "needs_background": "light"
     },
     "output_type": "display_data"
    }
   ],
   "source": [
    "fpr, tpr, _ = roc_curve(y_val, probabilities[:, 1])\n",
    "plt.plot(fpr, tpr)\n",
    "plt.plot([0, 1], [0, 1], color='grey', lw=1, linestyle='--')\n",
    "plt.xlabel('False Positive Rate')\n",
    "plt.ylabel('True Positive Rate')"
   ]
  },
  {
   "cell_type": "code",
   "execution_count": 266,
   "metadata": {},
   "outputs": [
    {
     "data": {
      "text/plain": [
       "array([[7782,   31],\n",
       "       [ 216, 2087]], dtype=int64)"
      ]
     },
     "execution_count": 266,
     "metadata": {},
     "output_type": "execute_result"
    }
   ],
   "source": [
    "confusion_matrix(y_val, predicted)"
   ]
  },
  {
   "cell_type": "code",
   "execution_count": 267,
   "metadata": {},
   "outputs": [
    {
     "data": {
      "text/plain": [
       "0.9853635505193579"
      ]
     },
     "execution_count": 267,
     "metadata": {},
     "output_type": "execute_result"
    }
   ],
   "source": [
    "precision_score(y_val, predicted)"
   ]
  },
  {
   "cell_type": "code",
   "execution_count": 268,
   "metadata": {},
   "outputs": [
    {
     "data": {
      "text/plain": [
       "0.9062092922275293"
      ]
     },
     "execution_count": 268,
     "metadata": {},
     "output_type": "execute_result"
    }
   ],
   "source": [
    "recall_score(y_val, predicted)"
   ]
  },
  {
   "cell_type": "code",
   "execution_count": 269,
   "metadata": {},
   "outputs": [
    {
     "name": "stdout",
     "output_type": "stream",
     "text": [
      "              precision    recall  f1-score   support\n",
      "\n",
      "           0       0.97      1.00      0.98      7813\n",
      "           1       0.99      0.91      0.94      2303\n",
      "\n",
      "    accuracy                           0.98     10116\n",
      "   macro avg       0.98      0.95      0.96     10116\n",
      "weighted avg       0.98      0.98      0.98     10116\n",
      "\n"
     ]
    }
   ],
   "source": [
    "print(classification_report(y_val,predicted))"
   ]
  },
  {
   "cell_type": "markdown",
   "metadata": {},
   "source": [
    "# Up-sampling/ down-sampling"
   ]
  },
  {
   "cell_type": "code",
   "execution_count": 270,
   "metadata": {},
   "outputs": [],
   "source": [
    "# Separate majority and minority classes\n",
    "df_majority = meteo1[meteo1.WeatherDelay_30==0]\n",
    "df_minority = meteo1[meteo1.WeatherDelay_30==1]"
   ]
  },
  {
   "cell_type": "code",
   "execution_count": 288,
   "metadata": {},
   "outputs": [
    {
     "name": "stdout",
     "output_type": "stream",
     "text": [
      "(38906, 17)\n",
      "(896, 17)\n"
     ]
    }
   ],
   "source": [
    "print(df_majority.shape)\n",
    "print(df_minority.shape)"
   ]
  },
  {
   "cell_type": "code",
   "execution_count": 272,
   "metadata": {},
   "outputs": [],
   "source": [
    "# Upsample minority class\n",
    "df_minority_upsampled = resample(df_minority, \n",
    "                                 replace=True,     # sample with replacement\n",
    "                                 n_samples=17920,    # to match majority class\n",
    "                                 random_state=123) # reproducible results"
   ]
  },
  {
   "cell_type": "code",
   "execution_count": 289,
   "metadata": {},
   "outputs": [],
   "source": [
    "# Downsample majority class\n",
    "df_majority_downsampled = resample(df_majority, \n",
    "                                 replace=False,    # sample without replacement\n",
    "                                 n_samples=3890,     # to match minority class\n",
    "                                 random_state=123) # reproducible results"
   ]
  },
  {
   "cell_type": "code",
   "execution_count": 290,
   "metadata": {},
   "outputs": [],
   "source": [
    "# Combine majority class with upsampled minority class\n",
    "df_mediumsampled = pd.concat([df_majority_downsampled, df_minority])"
   ]
  },
  {
   "cell_type": "code",
   "execution_count": 291,
   "metadata": {},
   "outputs": [
    {
     "data": {
      "text/plain": [
       "0    3890\n",
       "1     896\n",
       "Name: WeatherDelay_30, dtype: int64"
      ]
     },
     "execution_count": 291,
     "metadata": {},
     "output_type": "execute_result"
    }
   ],
   "source": [
    "# Display new class counts\n",
    "df_mediumsampled['WeatherDelay_30'].value_counts()"
   ]
  },
  {
   "cell_type": "markdown",
   "metadata": {},
   "source": [
    "# New RandomForest"
   ]
  },
  {
   "cell_type": "code",
   "execution_count": 292,
   "metadata": {},
   "outputs": [],
   "source": [
    "X_train, X_test, y_train, y_test = train_test_split(df_mediumsampled.drop('WeatherDelay_30', axis=1),df_mediumsampled['WeatherDelay_30'], test_size = 0.3,random_state=12)"
   ]
  },
  {
   "cell_type": "code",
   "execution_count": 293,
   "metadata": {},
   "outputs": [
    {
     "data": {
      "text/plain": [
       "RandomForestClassifier(bootstrap=True, ccp_alpha=0.0, class_weight=None,\n",
       "                       criterion='gini', max_depth=None, max_features='auto',\n",
       "                       max_leaf_nodes=None, max_samples=None,\n",
       "                       min_impurity_decrease=0.0, min_impurity_split=None,\n",
       "                       min_samples_leaf=1, min_samples_split=2,\n",
       "                       min_weight_fraction_leaf=0.0, n_estimators=10,\n",
       "                       n_jobs=None, oob_score=False, random_state=12, verbose=0,\n",
       "                       warm_start=False)"
      ]
     },
     "execution_count": 293,
     "metadata": {},
     "output_type": "execute_result"
    }
   ],
   "source": [
    "model = RandomForestClassifier(n_estimators=10, random_state=12)\n",
    "model.fit(X_train, y_train)"
   ]
  },
  {
   "cell_type": "code",
   "execution_count": 294,
   "metadata": {},
   "outputs": [
    {
     "data": {
      "text/plain": [
       "0.8259052924791086"
      ]
     },
     "execution_count": 294,
     "metadata": {},
     "output_type": "execute_result"
    }
   ],
   "source": [
    "new_predicted = model.predict(X_test)\n",
    "model.score(X_test, y_test)"
   ]
  },
  {
   "cell_type": "code",
   "execution_count": 295,
   "metadata": {},
   "outputs": [],
   "source": [
    "new_probabilities = model.predict_proba(X_test)"
   ]
  },
  {
   "cell_type": "code",
   "execution_count": 296,
   "metadata": {},
   "outputs": [
    {
     "data": {
      "text/plain": [
       "0.7253835930892836"
      ]
     },
     "execution_count": 296,
     "metadata": {},
     "output_type": "execute_result"
    }
   ],
   "source": [
    "roc_auc_score(y_test, new_probabilities[:, 1])"
   ]
  },
  {
   "cell_type": "code",
   "execution_count": 297,
   "metadata": {},
   "outputs": [
    {
     "data": {
      "text/plain": [
       "Text(0, 0.5, 'True Positive Rate')"
      ]
     },
     "execution_count": 297,
     "metadata": {},
     "output_type": "execute_result"
    },
    {
     "data": {
      "image/png": "[encoded data removed]",
      "text/plain": [
       "<Figure size 432x288 with 1 Axes>"
      ]
     },
     "metadata": {
      "needs_background": "light"
     },
     "output_type": "display_data"
    }
   ],
   "source": [
    "fpr, tpr, _ = roc_curve(y_test, new_probabilities[:, 1])\n",
    "plt.plot(fpr, tpr)\n",
    "plt.plot([0, 1], [0, 1], color='grey', lw=1, linestyle='--')\n",
    "plt.xlabel('False Positive Rate')\n",
    "plt.ylabel('True Positive Rate')"
   ]
  },
  {
   "cell_type": "code",
   "execution_count": 298,
   "metadata": {},
   "outputs": [
    {
     "data": {
      "text/plain": [
       "array([[1114,   43],\n",
       "       [ 207,   72]], dtype=int64)"
      ]
     },
     "execution_count": 298,
     "metadata": {},
     "output_type": "execute_result"
    }
   ],
   "source": [
    "confusion_matrix(y_test, new_predicted)"
   ]
  },
  {
   "cell_type": "code",
   "execution_count": 300,
   "metadata": {},
   "outputs": [
    {
     "data": {
      "text/plain": [
       "0.25806451612903225"
      ]
     },
     "execution_count": 300,
     "metadata": {},
     "output_type": "execute_result"
    }
   ],
   "source": [
    "recall_score(y_test, new_predicted)"
   ]
  },
  {
   "cell_type": "code",
   "execution_count": 301,
   "metadata": {},
   "outputs": [
    {
     "data": {
      "text/plain": [
       "0.6260869565217392"
      ]
     },
     "execution_count": 301,
     "metadata": {},
     "output_type": "execute_result"
    }
   ],
   "source": [
    "precision_score(y_test, new_predicted)"
   ]
  },
  {
   "cell_type": "code",
   "execution_count": 302,
   "metadata": {},
   "outputs": [
    {
     "name": "stdout",
     "output_type": "stream",
     "text": [
      "              precision    recall  f1-score   support\n",
      "\n",
      "           0       0.84      0.96      0.90      1157\n",
      "           1       0.63      0.26      0.37       279\n",
      "\n",
      "    accuracy                           0.83      1436\n",
      "   macro avg       0.73      0.61      0.63      1436\n",
      "weighted avg       0.80      0.83      0.80      1436\n",
      "\n"
     ]
    }
   ],
   "source": [
    "print(classification_report(y_test,new_predicted))"
   ]
  },
  {
   "cell_type": "code",
   "execution_count": 285,
   "metadata": {},
   "outputs": [
    {
     "data": {
      "text/plain": [
       "array([0.08796111, 0.19109305, 0.16806339, 0.15948109, 0.08340505,\n",
       "       0.00626612, 0.00758974, 0.00744426, 0.0121237 , 0.02310999,\n",
       "       0.01502527, 0.01028077, 0.01379962, 0.01506705, 0.00906237,\n",
       "       0.19022744])"
      ]
     },
     "execution_count": 285,
     "metadata": {},
     "output_type": "execute_result"
    }
   ],
   "source": [
    "model.feature_importances_"
   ]
  },
  {
   "cell_type": "code",
   "execution_count": 286,
   "metadata": {},
   "outputs": [
    {
     "data": {
      "text/plain": [
       "Temperature          0.191093\n",
       "TailNumEncod         0.190227\n",
       "Relative Humidity    0.168063\n",
       "Wind Speed           0.159481\n",
       "Month                0.087961\n",
       "Visibility           0.083405\n",
       "Origin_ORD           0.023110\n",
       "Dest_EWR             0.015067\n",
       "Dest_ATL             0.015025\n",
       "Dest_DFW             0.013800\n",
       "Origin_EWR           0.012124\n",
       "Dest_DEN             0.010281\n",
       "Dest_ORD             0.009062\n",
       "Origin_DEN           0.007590\n",
       "Origin_DFW           0.007444\n",
       "Origin_ATL           0.006266\n",
       "dtype: float64"
      ]
     },
     "execution_count": 286,
     "metadata": {},
     "output_type": "execute_result"
    }
   ],
   "source": [
    "feature_imp = pd.Series(model.feature_importances_,index=meteo1.drop('WeatherDelay_30', axis=1).columns).sort_values(ascending=False)\n",
    "feature_imp"
   ]
  },
  {
   "cell_type": "code",
   "execution_count": 287,
   "metadata": {},
   "outputs": [
    {
     "name": "stderr",
     "output_type": "stream",
     "text": [
      "No handles with labels found to put in legend.\n"
     ]
    },
    {
     "data": {
      "image/png": "[encoded data removed]",
      "text/plain": [
       "<Figure size 432x288 with 1 Axes>"
      ]
     },
     "metadata": {
      "needs_background": "light"
     },
     "output_type": "display_data"
    }
   ],
   "source": [
    "# Creating a bar plot\n",
    "sns.barplot(x=feature_imp, y=feature_imp.index)\n",
    "# Add labels to your graph\n",
    "plt.xlabel('Feature Importance Score')\n",
    "plt.ylabel('Features')\n",
    "plt.title(\"Visualizing Important Features\")\n",
    "plt.legend()\n",
    "plt.show()"
   ]
  },
  {
   "cell_type": "code",
   "execution_count": 88,
   "metadata": {},
   "outputs": [
    {
     "data": {
      "text/plain": [
       "0.96588274263001"
      ]
     },
     "execution_count": 88,
     "metadata": {},
     "output_type": "execute_result"
    }
   ],
   "source": [
    "2916/(2916+103)"
   ]
  },
  {
   "cell_type": "code",
   "execution_count": null,
   "metadata": {},
   "outputs": [],
   "source": []
  }
 ],
 "metadata": {
  "kernelspec": {
   "display_name": "Python 3",
   "language": "python",
   "name": "python3"
  },
  "language_info": {
   "codemirror_mode": {
    "name": "ipython",
    "version": 3
   },
   "file_extension": ".py",
   "mimetype": "text/x-python",
   "name": "python",
   "nbconvert_exporter": "python",
   "pygments_lexer": "ipython3",
   "version": "3.7.3"
  }
 },
 "nbformat": 4,
 "nbformat_minor": 2
}
