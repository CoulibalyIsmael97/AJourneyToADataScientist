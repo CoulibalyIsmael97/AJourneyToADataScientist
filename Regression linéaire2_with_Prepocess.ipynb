{
 "cells": [
  {
   "cell_type": "code",
   "execution_count": 1,
   "metadata": {},
   "outputs": [],
   "source": [
    "import numpy as np\n",
    "import pandas as pd\n",
    "import matplotlib.pyplot as plt\n",
    "import seaborn as sns\n",
    "from sklearn.model_selection import train_test_split\n",
    "from sklearn.linear_model import LinearRegression\n",
    "from sklearn.metrics import mean_squared_error, r2_score\n",
    "from sklearn import preprocessing"
   ]
  },
  {
   "cell_type": "code",
   "execution_count": 2,
   "metadata": {},
   "outputs": [],
   "source": [
    "df = pd.read_csv('Jointed_ficher_v1.csv')"
   ]
  },
  {
   "cell_type": "code",
   "execution_count": 3,
   "metadata": {},
   "outputs": [
    {
     "data": {
      "text/html": [
       "<div>\n",
       "<style scoped>\n",
       "    .dataframe tbody tr th:only-of-type {\n",
       "        vertical-align: middle;\n",
       "    }\n",
       "\n",
       "    .dataframe tbody tr th {\n",
       "        vertical-align: top;\n",
       "    }\n",
       "\n",
       "    .dataframe thead th {\n",
       "        text-align: right;\n",
       "    }\n",
       "</style>\n",
       "<table border=\"1\" class=\"dataframe\">\n",
       "  <thead>\n",
       "    <tr style=\"text-align: right;\">\n",
       "      <th></th>\n",
       "      <th>Year</th>\n",
       "      <th>Month</th>\n",
       "      <th>DayofMonth</th>\n",
       "      <th>DayOfWeek</th>\n",
       "      <th>DepTime</th>\n",
       "      <th>CRSDepTime</th>\n",
       "      <th>ArrTime</th>\n",
       "      <th>CRSArrTime</th>\n",
       "      <th>UniqueCarrier</th>\n",
       "      <th>ActualElapsedTime</th>\n",
       "      <th>...</th>\n",
       "      <th>City</th>\n",
       "      <th>Hour</th>\n",
       "      <th>Start_Date</th>\n",
       "      <th>Temperature</th>\n",
       "      <th>Dew Point</th>\n",
       "      <th>Relative Humidity</th>\n",
       "      <th>Wind Speed</th>\n",
       "      <th>Precipitation</th>\n",
       "      <th>Precipitation Cover</th>\n",
       "      <th>Visibility</th>\n",
       "    </tr>\n",
       "  </thead>\n",
       "  <tbody>\n",
       "    <tr>\n",
       "      <th>0</th>\n",
       "      <td>2008</td>\n",
       "      <td>1</td>\n",
       "      <td>3</td>\n",
       "      <td>4</td>\n",
       "      <td>1829.0</td>\n",
       "      <td>1755</td>\n",
       "      <td>1959.0</td>\n",
       "      <td>1925</td>\n",
       "      <td>WN</td>\n",
       "      <td>90.0</td>\n",
       "      <td>...</td>\n",
       "      <td>Indianapolis</td>\n",
       "      <td>17</td>\n",
       "      <td>2008-01-03 17:00:00</td>\n",
       "      <td>16.6</td>\n",
       "      <td>8.8</td>\n",
       "      <td>70.99</td>\n",
       "      <td>8.1</td>\n",
       "      <td>0.0</td>\n",
       "      <td>0.0</td>\n",
       "      <td>10.0</td>\n",
       "    </tr>\n",
       "    <tr>\n",
       "      <th>1</th>\n",
       "      <td>2008</td>\n",
       "      <td>1</td>\n",
       "      <td>3</td>\n",
       "      <td>4</td>\n",
       "      <td>1749.0</td>\n",
       "      <td>1705</td>\n",
       "      <td>1933.0</td>\n",
       "      <td>1844</td>\n",
       "      <td>EV</td>\n",
       "      <td>104.0</td>\n",
       "      <td>...</td>\n",
       "      <td>Indianapolis</td>\n",
       "      <td>17</td>\n",
       "      <td>2008-01-03 17:00:00</td>\n",
       "      <td>16.6</td>\n",
       "      <td>8.8</td>\n",
       "      <td>70.99</td>\n",
       "      <td>8.1</td>\n",
       "      <td>0.0</td>\n",
       "      <td>0.0</td>\n",
       "      <td>10.0</td>\n",
       "    </tr>\n",
       "    <tr>\n",
       "      <th>2</th>\n",
       "      <td>2008</td>\n",
       "      <td>1</td>\n",
       "      <td>3</td>\n",
       "      <td>4</td>\n",
       "      <td>2108.0</td>\n",
       "      <td>1740</td>\n",
       "      <td>2251.0</td>\n",
       "      <td>1930</td>\n",
       "      <td>9E</td>\n",
       "      <td>103.0</td>\n",
       "      <td>...</td>\n",
       "      <td>Indianapolis</td>\n",
       "      <td>17</td>\n",
       "      <td>2008-01-03 17:00:00</td>\n",
       "      <td>16.6</td>\n",
       "      <td>8.8</td>\n",
       "      <td>70.99</td>\n",
       "      <td>8.1</td>\n",
       "      <td>0.0</td>\n",
       "      <td>0.0</td>\n",
       "      <td>10.0</td>\n",
       "    </tr>\n",
       "    <tr>\n",
       "      <th>3</th>\n",
       "      <td>2008</td>\n",
       "      <td>1</td>\n",
       "      <td>3</td>\n",
       "      <td>4</td>\n",
       "      <td>1937.0</td>\n",
       "      <td>1830</td>\n",
       "      <td>2037.0</td>\n",
       "      <td>1940</td>\n",
       "      <td>WN</td>\n",
       "      <td>240.0</td>\n",
       "      <td>...</td>\n",
       "      <td>Indianapolis</td>\n",
       "      <td>18</td>\n",
       "      <td>2008-01-03 18:00:00</td>\n",
       "      <td>19.1</td>\n",
       "      <td>10.1</td>\n",
       "      <td>67.40</td>\n",
       "      <td>7.7</td>\n",
       "      <td>0.0</td>\n",
       "      <td>0.0</td>\n",
       "      <td>10.0</td>\n",
       "    </tr>\n",
       "    <tr>\n",
       "      <th>4</th>\n",
       "      <td>2008</td>\n",
       "      <td>1</td>\n",
       "      <td>3</td>\n",
       "      <td>4</td>\n",
       "      <td>1845.0</td>\n",
       "      <td>1841</td>\n",
       "      <td>1955.0</td>\n",
       "      <td>1931</td>\n",
       "      <td>NW</td>\n",
       "      <td>130.0</td>\n",
       "      <td>...</td>\n",
       "      <td>Indianapolis</td>\n",
       "      <td>18</td>\n",
       "      <td>2008-01-03 18:00:00</td>\n",
       "      <td>19.1</td>\n",
       "      <td>10.1</td>\n",
       "      <td>67.40</td>\n",
       "      <td>7.7</td>\n",
       "      <td>0.0</td>\n",
       "      <td>0.0</td>\n",
       "      <td>10.0</td>\n",
       "    </tr>\n",
       "  </tbody>\n",
       "</table>\n",
       "<p>5 rows × 32 columns</p>\n",
       "</div>"
      ],
      "text/plain": [
       "   Year  Month  DayofMonth  DayOfWeek  DepTime  CRSDepTime  ArrTime  \\\n",
       "0  2008      1           3          4   1829.0        1755   1959.0   \n",
       "1  2008      1           3          4   1749.0        1705   1933.0   \n",
       "2  2008      1           3          4   2108.0        1740   2251.0   \n",
       "3  2008      1           3          4   1937.0        1830   2037.0   \n",
       "4  2008      1           3          4   1845.0        1841   1955.0   \n",
       "\n",
       "   CRSArrTime UniqueCarrier  ActualElapsedTime  ...          City  Hour  \\\n",
       "0        1925            WN               90.0  ...  Indianapolis    17   \n",
       "1        1844            EV              104.0  ...  Indianapolis    17   \n",
       "2        1930            9E              103.0  ...  Indianapolis    17   \n",
       "3        1940            WN              240.0  ...  Indianapolis    18   \n",
       "4        1931            NW              130.0  ...  Indianapolis    18   \n",
       "\n",
       "            Start_Date  Temperature Dew Point Relative Humidity  Wind Speed  \\\n",
       "0  2008-01-03 17:00:00         16.6       8.8             70.99         8.1   \n",
       "1  2008-01-03 17:00:00         16.6       8.8             70.99         8.1   \n",
       "2  2008-01-03 17:00:00         16.6       8.8             70.99         8.1   \n",
       "3  2008-01-03 18:00:00         19.1      10.1             67.40         7.7   \n",
       "4  2008-01-03 18:00:00         19.1      10.1             67.40         7.7   \n",
       "\n",
       "   Precipitation  Precipitation Cover  Visibility  \n",
       "0            0.0                  0.0        10.0  \n",
       "1            0.0                  0.0        10.0  \n",
       "2            0.0                  0.0        10.0  \n",
       "3            0.0                  0.0        10.0  \n",
       "4            0.0                  0.0        10.0  \n",
       "\n",
       "[5 rows x 32 columns]"
      ]
     },
     "execution_count": 3,
     "metadata": {},
     "output_type": "execute_result"
    }
   ],
   "source": [
    "df.head()"
   ]
  },
  {
   "cell_type": "code",
   "execution_count": 4,
   "metadata": {},
   "outputs": [],
   "source": [
    "meteo=df.loc[:,['Temperature','Dew Point','Relative Humidity','Wind Speed','Precipitation','Precipitation Cover','Visibility','WeatherDelay']]\n",
    "meteo=meteo[meteo['WeatherDelay'] > 0]"
   ]
  },
  {
   "cell_type": "code",
   "execution_count": 5,
   "metadata": {},
   "outputs": [
    {
     "name": "stdout",
     "output_type": "stream",
     "text": [
      "(1110138, 32)\n",
      "(78285, 8)\n"
     ]
    },
    {
     "data": {
      "text/html": [
       "<div>\n",
       "<style scoped>\n",
       "    .dataframe tbody tr th:only-of-type {\n",
       "        vertical-align: middle;\n",
       "    }\n",
       "\n",
       "    .dataframe tbody tr th {\n",
       "        vertical-align: top;\n",
       "    }\n",
       "\n",
       "    .dataframe thead th {\n",
       "        text-align: right;\n",
       "    }\n",
       "</style>\n",
       "<table border=\"1\" class=\"dataframe\">\n",
       "  <thead>\n",
       "    <tr style=\"text-align: right;\">\n",
       "      <th></th>\n",
       "      <th>Temperature</th>\n",
       "      <th>Dew Point</th>\n",
       "      <th>Relative Humidity</th>\n",
       "      <th>Wind Speed</th>\n",
       "      <th>Precipitation</th>\n",
       "      <th>Precipitation Cover</th>\n",
       "      <th>Visibility</th>\n",
       "      <th>WeatherDelay</th>\n",
       "    </tr>\n",
       "  </thead>\n",
       "  <tbody>\n",
       "    <tr>\n",
       "      <th>28</th>\n",
       "      <td>65.0</td>\n",
       "      <td>55.6</td>\n",
       "      <td>71.63</td>\n",
       "      <td>16.1</td>\n",
       "      <td>0.0</td>\n",
       "      <td>0.0</td>\n",
       "      <td>10.0</td>\n",
       "      <td>233.0</td>\n",
       "    </tr>\n",
       "    <tr>\n",
       "      <th>50</th>\n",
       "      <td>31.4</td>\n",
       "      <td>29.5</td>\n",
       "      <td>92.85</td>\n",
       "      <td>12.8</td>\n",
       "      <td>0.0</td>\n",
       "      <td>0.0</td>\n",
       "      <td>2.2</td>\n",
       "      <td>22.0</td>\n",
       "    </tr>\n",
       "    <tr>\n",
       "      <th>127</th>\n",
       "      <td>23.1</td>\n",
       "      <td>10.1</td>\n",
       "      <td>56.99</td>\n",
       "      <td>8.4</td>\n",
       "      <td>0.0</td>\n",
       "      <td>0.0</td>\n",
       "      <td>10.0</td>\n",
       "      <td>30.0</td>\n",
       "    </tr>\n",
       "    <tr>\n",
       "      <th>150</th>\n",
       "      <td>25.1</td>\n",
       "      <td>16.6</td>\n",
       "      <td>69.76</td>\n",
       "      <td>8.2</td>\n",
       "      <td>0.0</td>\n",
       "      <td>0.0</td>\n",
       "      <td>10.0</td>\n",
       "      <td>3.0</td>\n",
       "    </tr>\n",
       "    <tr>\n",
       "      <th>154</th>\n",
       "      <td>18.4</td>\n",
       "      <td>12.4</td>\n",
       "      <td>77.12</td>\n",
       "      <td>3.3</td>\n",
       "      <td>0.0</td>\n",
       "      <td>0.0</td>\n",
       "      <td>9.6</td>\n",
       "      <td>25.0</td>\n",
       "    </tr>\n",
       "  </tbody>\n",
       "</table>\n",
       "</div>"
      ],
      "text/plain": [
       "     Temperature  Dew Point  Relative Humidity  Wind Speed  Precipitation  \\\n",
       "28          65.0       55.6              71.63        16.1            0.0   \n",
       "50          31.4       29.5              92.85        12.8            0.0   \n",
       "127         23.1       10.1              56.99         8.4            0.0   \n",
       "150         25.1       16.6              69.76         8.2            0.0   \n",
       "154         18.4       12.4              77.12         3.3            0.0   \n",
       "\n",
       "     Precipitation Cover  Visibility  WeatherDelay  \n",
       "28                   0.0        10.0         233.0  \n",
       "50                   0.0         2.2          22.0  \n",
       "127                  0.0        10.0          30.0  \n",
       "150                  0.0        10.0           3.0  \n",
       "154                  0.0         9.6          25.0  "
      ]
     },
     "execution_count": 5,
     "metadata": {},
     "output_type": "execute_result"
    }
   ],
   "source": [
    "print(df.shape)\n",
    "print(meteo.shape)\n",
    "meteo.head()"
   ]
  },
  {
   "cell_type": "code",
   "execution_count": 6,
   "metadata": {},
   "outputs": [
    {
     "data": {
      "text/plain": [
       "array([[ 65.  ,  55.6 ,  71.63, ...,   0.  ,   0.  ,  10.  ],\n",
       "       [ 31.4 ,  29.5 ,  92.85, ...,   0.  ,   0.  ,   2.2 ],\n",
       "       [ 23.1 ,  10.1 ,  56.99, ...,   0.  ,   0.  ,  10.  ],\n",
       "       ...,\n",
       "       [ 71.  ,  64.7 ,  80.66, ...,   0.  ,   0.  ,  10.  ],\n",
       "       [ 60.8 ,  57.5 ,  89.07, ...,   0.  ,   0.  ,  10.  ],\n",
       "       [ 68.1 ,  67.4 ,  97.52, ...,   0.  , 100.  ,  10.  ]])"
      ]
     },
     "execution_count": 6,
     "metadata": {},
     "output_type": "execute_result"
    }
   ],
   "source": [
    "X=meteo.iloc[:,:-1].values\n",
    "y=meteo.iloc[:,7].values\n",
    "X"
   ]
  },
  {
   "cell_type": "code",
   "execution_count": 7,
   "metadata": {},
   "outputs": [],
   "source": [
    "def plot_corr(corr):\n",
    "    # https://seaborn.pydata.org/examples/many_pairwise_correlations.html\n",
    "    # Generate a mask for the upper triangle\n",
    "    mask = np.zeros_like(corr, dtype=np.bool)\n",
    "    mask[np.triu_indices_from(mask)] = True\n",
    "    \n",
    "    # Generate a custom diverging colormap\n",
    "    cmap = sns.diverging_palette(220, 10, as_cmap=True)\n",
    "\n",
    "    sns.heatmap(corr, mask=mask, cmap=cmap)"
   ]
  },
  {
   "cell_type": "code",
   "execution_count": 8,
   "metadata": {},
   "outputs": [
    {
     "data": {
      "image/png": "[encoded data removed]",
      "text/plain": [
       "<Figure size 432x288 with 2 Axes>"
      ]
     },
     "metadata": {
      "needs_background": "light"
     },
     "output_type": "display_data"
    }
   ],
   "source": [
    "plot_corr(meteo.corr())"
   ]
  },
  {
   "cell_type": "code",
   "execution_count": 9,
   "metadata": {},
   "outputs": [
    {
     "data": {
      "text/plain": [
       "<matplotlib.axes._subplots.AxesSubplot at 0x13a534d7b70>"
      ]
     },
     "execution_count": 9,
     "metadata": {},
     "output_type": "execute_result"
    },
    {
     "data": {
      "image/png": "[encoded data removed]",
      "text/plain": [
       "<Figure size 432x288 with 2 Axes>"
      ]
     },
     "metadata": {
      "needs_background": "light"
     },
     "output_type": "display_data"
    }
   ],
   "source": [
    "sns.heatmap(meteo.corr())"
   ]
  },
  {
   "cell_type": "code",
   "execution_count": 10,
   "metadata": {},
   "outputs": [],
   "source": [
    "#X=X[:,[0,2,3,4,5,6]]\n",
    "#X"
   ]
  },
  {
   "cell_type": "code",
   "execution_count": 11,
   "metadata": {},
   "outputs": [],
   "source": [
    "X_train, X_test, y_train, y_test = train_test_split(X, y, train_size=0.8)"
   ]
  },
  {
   "cell_type": "code",
   "execution_count": 12,
   "metadata": {},
   "outputs": [
    {
     "data": {
      "text/plain": [
       "array([[-0.92112732, -1.02536655, -0.38158536, ..., -0.21016416,\n",
       "        -0.52455291,  0.39872042],\n",
       "       [-1.83158389, -1.79427556,  0.27282507, ..., -0.21016416,\n",
       "        -0.52455291, -0.47122716],\n",
       "       [-1.09573543, -0.85247576,  0.90718098, ..., -0.21016416,\n",
       "        -0.52455291, -0.47122716],\n",
       "       ...,\n",
       "       [ 0.63371632,  0.71264082, -0.04013088, ..., -0.21016416,\n",
       "        -0.52455291, -0.27548896],\n",
       "       [-1.96877597, -2.17190544, -0.56840898, ..., -0.21016416,\n",
       "        -0.52455291,  0.39872042],\n",
       "       [-0.96270068, -0.66138595,  1.10825386, ..., -0.21016416,\n",
       "         1.90638537, -1.38467212]])"
      ]
     },
     "execution_count": 12,
     "metadata": {},
     "output_type": "execute_result"
    }
   ],
   "source": [
    "scaler = preprocessing.StandardScaler().fit(X_train)\n",
    "X_scaled = scaler.transform(X_train)\n",
    "X_scaled"
   ]
  },
  {
   "cell_type": "code",
   "execution_count": 13,
   "metadata": {},
   "outputs": [
    {
     "data": {
      "text/plain": [
       "LinearRegression(copy_X=True, fit_intercept=True, n_jobs=None, normalize=False)"
      ]
     },
     "execution_count": 13,
     "metadata": {},
     "output_type": "execute_result"
    }
   ],
   "source": [
    "regressor=LinearRegression()\n",
    "regressor.fit(X_scaled,y_train)"
   ]
  },
  {
   "cell_type": "code",
   "execution_count": 14,
   "metadata": {},
   "outputs": [
    {
     "data": {
      "text/plain": [
       "array([[-1.54472771, -1.8443229 , -0.9061692 , ..., -0.21016416,\n",
       "        -0.52455291,  0.39872042],\n",
       "       [-0.95854334, -0.67503522,  1.05389557, ..., -0.21016416,\n",
       "        -0.52455291, -0.90620095],\n",
       "       [-0.83382326, -0.50214443,  1.21697043, ..., -0.21016416,\n",
       "        -0.52455291, -1.14543653],\n",
       "       ...,\n",
       "       [-0.72573253, -0.72053279, -0.06282415, ..., -0.21016416,\n",
       "        -0.52455291,  0.39872042],\n",
       "       [ 0.75427906,  1.05387263,  0.6253623 , ..., -0.21016416,\n",
       "        -0.52455291, -0.40598109],\n",
       "       [ 0.9787752 ,  1.18126585,  0.26015906, ..., -0.21016416,\n",
       "        -0.52455291,  0.20298221]])"
      ]
     },
     "execution_count": 14,
     "metadata": {},
     "output_type": "execute_result"
    }
   ],
   "source": [
    "scaler.transform(X_test)"
   ]
  },
  {
   "cell_type": "code",
   "execution_count": 15,
   "metadata": {},
   "outputs": [
    {
     "name": "stdout",
     "output_type": "stream",
     "text": [
      "[-277.73650011 -304.04457314 -302.61461988 ... -267.81621522 -220.40216066\n",
      " -204.75059692]\n"
     ]
    }
   ],
   "source": [
    "y_pred=regressor.predict(X_test)\n",
    "print(y_pred)"
   ]
  },
  {
   "cell_type": "code",
   "execution_count": 16,
   "metadata": {},
   "outputs": [
    {
     "data": {
      "text/plain": [
       "array([-6.06490422,  8.0001022 , -4.22320378, -0.12575961, -0.37001731,\n",
       "       -0.22806622, -1.68997323])"
      ]
     },
     "execution_count": 16,
     "metadata": {},
     "output_type": "execute_result"
    }
   ],
   "source": [
    "regressor.coef_"
   ]
  },
  {
   "cell_type": "code",
   "execution_count": 17,
   "metadata": {},
   "outputs": [
    {
     "data": {
      "text/plain": [
       "43.412195822955525"
      ]
     },
     "execution_count": 17,
     "metadata": {},
     "output_type": "execute_result"
    }
   ],
   "source": [
    "regressor.intercept_"
   ]
  },
  {
   "cell_type": "code",
   "execution_count": 18,
   "metadata": {},
   "outputs": [
    {
     "name": "stdout",
     "output_type": "stream",
     "text": [
      "303.5968076302951\n"
     ]
    },
    {
     "data": {
      "text/plain": [
       "-29.483858784985518"
      ]
     },
     "execution_count": 18,
     "metadata": {},
     "output_type": "execute_result"
    }
   ],
   "source": [
    "rmse = np.sqrt(mean_squared_error(y_test,y_pred))\n",
    "print(rmse)\n",
    "r2_score(y_test,y_pred)"
   ]
  }
 ],
 "metadata": {
  "kernelspec": {
   "display_name": "Python 3",
   "language": "python",
   "name": "python3"
  },
  "language_info": {
   "codemirror_mode": {
    "name": "ipython",
    "version": 3
   },
   "file_extension": ".py",
   "mimetype": "text/x-python",
   "name": "python",
   "nbconvert_exporter": "python",
   "pygments_lexer": "ipython3",
   "version": "3.7.3"
  }
 },
 "nbformat": 4,
 "nbformat_minor": 2
}
