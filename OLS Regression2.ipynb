{
 "cells": [
  {
   "cell_type": "code",
   "execution_count": 1,
   "metadata": {},
   "outputs": [],
   "source": [
    "import numpy as np\n",
    "import pandas as pd\n",
    "import matplotlib.pyplot as plt\n",
    "import seaborn as sns\n",
    "from sklearn.model_selection import train_test_split\n",
    "from sklearn.linear_model import LinearRegression\n",
    "from sklearn.metrics import mean_squared_error, r2_score\n",
    "from sklearn.preprocessing import PolynomialFeatures \n",
    "from sklearn import preprocessing\n",
    "import scipy as sp\n",
    "import statsmodels.api as sm\n",
    "from scipy import stats"
   ]
  },
  {
   "cell_type": "code",
   "execution_count": 2,
   "metadata": {},
   "outputs": [],
   "source": [
    "df = pd.read_csv('Jointed_ficher_v1.csv')"
   ]
  },
  {
   "cell_type": "code",
   "execution_count": 3,
   "metadata": {},
   "outputs": [],
   "source": [
    "meteo=df.loc[:,['Temperature','Dew Point','Relative Humidity','Wind Speed','Visibility','WeatherDelay']]\n",
    "meteo=meteo[meteo['WeatherDelay'] > 0]\n",
    "#,'Precipitation','Precipitation Cover'"
   ]
  },
  {
   "cell_type": "code",
   "execution_count": 4,
   "metadata": {},
   "outputs": [
    {
     "name": "stdout",
     "output_type": "stream",
     "text": [
      "(1110138, 32)\n",
      "(78285, 6)\n"
     ]
    },
    {
     "data": {
      "text/html": [
       "<div>\n",
       "<style scoped>\n",
       "    .dataframe tbody tr th:only-of-type {\n",
       "        vertical-align: middle;\n",
       "    }\n",
       "\n",
       "    .dataframe tbody tr th {\n",
       "        vertical-align: top;\n",
       "    }\n",
       "\n",
       "    .dataframe thead th {\n",
       "        text-align: right;\n",
       "    }\n",
       "</style>\n",
       "<table border=\"1\" class=\"dataframe\">\n",
       "  <thead>\n",
       "    <tr style=\"text-align: right;\">\n",
       "      <th></th>\n",
       "      <th>Temperature</th>\n",
       "      <th>Dew Point</th>\n",
       "      <th>Relative Humidity</th>\n",
       "      <th>Wind Speed</th>\n",
       "      <th>Visibility</th>\n",
       "      <th>WeatherDelay</th>\n",
       "    </tr>\n",
       "  </thead>\n",
       "  <tbody>\n",
       "    <tr>\n",
       "      <th>28</th>\n",
       "      <td>65.0</td>\n",
       "      <td>55.6</td>\n",
       "      <td>71.63</td>\n",
       "      <td>16.1</td>\n",
       "      <td>10.0</td>\n",
       "      <td>233.0</td>\n",
       "    </tr>\n",
       "    <tr>\n",
       "      <th>50</th>\n",
       "      <td>31.4</td>\n",
       "      <td>29.5</td>\n",
       "      <td>92.85</td>\n",
       "      <td>12.8</td>\n",
       "      <td>2.2</td>\n",
       "      <td>22.0</td>\n",
       "    </tr>\n",
       "    <tr>\n",
       "      <th>127</th>\n",
       "      <td>23.1</td>\n",
       "      <td>10.1</td>\n",
       "      <td>56.99</td>\n",
       "      <td>8.4</td>\n",
       "      <td>10.0</td>\n",
       "      <td>30.0</td>\n",
       "    </tr>\n",
       "    <tr>\n",
       "      <th>150</th>\n",
       "      <td>25.1</td>\n",
       "      <td>16.6</td>\n",
       "      <td>69.76</td>\n",
       "      <td>8.2</td>\n",
       "      <td>10.0</td>\n",
       "      <td>3.0</td>\n",
       "    </tr>\n",
       "    <tr>\n",
       "      <th>154</th>\n",
       "      <td>18.4</td>\n",
       "      <td>12.4</td>\n",
       "      <td>77.12</td>\n",
       "      <td>3.3</td>\n",
       "      <td>9.6</td>\n",
       "      <td>25.0</td>\n",
       "    </tr>\n",
       "  </tbody>\n",
       "</table>\n",
       "</div>"
      ],
      "text/plain": [
       "     Temperature  Dew Point  Relative Humidity  Wind Speed  Visibility  \\\n",
       "28          65.0       55.6              71.63        16.1        10.0   \n",
       "50          31.4       29.5              92.85        12.8         2.2   \n",
       "127         23.1       10.1              56.99         8.4        10.0   \n",
       "150         25.1       16.6              69.76         8.2        10.0   \n",
       "154         18.4       12.4              77.12         3.3         9.6   \n",
       "\n",
       "     WeatherDelay  \n",
       "28          233.0  \n",
       "50           22.0  \n",
       "127          30.0  \n",
       "150           3.0  \n",
       "154          25.0  "
      ]
     },
     "execution_count": 4,
     "metadata": {},
     "output_type": "execute_result"
    }
   ],
   "source": [
    "print(df.shape)\n",
    "print(meteo.shape)\n",
    "meteo.head()"
   ]
  },
  {
   "cell_type": "code",
   "execution_count": 5,
   "metadata": {},
   "outputs": [
    {
     "data": {
      "text/plain": [
       "array([[65.  , 55.6 , 71.63, 16.1 , 10.  ],\n",
       "       [31.4 , 29.5 , 92.85, 12.8 ,  2.2 ],\n",
       "       [23.1 , 10.1 , 56.99,  8.4 , 10.  ],\n",
       "       ...,\n",
       "       [71.  , 64.7 , 80.66, 12.3 , 10.  ],\n",
       "       [60.8 , 57.5 , 89.07,  0.  , 10.  ],\n",
       "       [68.1 , 67.4 , 97.52, 11.4 , 10.  ]])"
      ]
     },
     "execution_count": 5,
     "metadata": {},
     "output_type": "execute_result"
    }
   ],
   "source": [
    "X=meteo.iloc[:,:-1].values\n",
    "y=meteo.iloc[:,5].values\n",
    "X"
   ]
  },
  {
   "cell_type": "code",
   "execution_count": 6,
   "metadata": {},
   "outputs": [],
   "source": [
    "def plot_corr(corr):\n",
    "    # https://seaborn.pydata.org/examples/many_pairwise_correlations.html\n",
    "    # Generate a mask for the upper triangle\n",
    "    mask = np.zeros_like(corr, dtype=np.bool)\n",
    "    mask[np.triu_indices_from(mask)] = True\n",
    "    \n",
    "    # Generate a custom diverging colormap\n",
    "    cmap = sns.diverging_palette(220, 10, as_cmap=True)\n",
    "\n",
    "    sns.heatmap(corr, mask=mask, cmap=cmap)"
   ]
  },
  {
   "cell_type": "code",
   "execution_count": 7,
   "metadata": {},
   "outputs": [
    {
     "data": {
      "image/png": "[encoded data removed]",
      "text/plain": [
       "<Figure size 432x288 with 2 Axes>"
      ]
     },
     "metadata": {
      "needs_background": "light"
     },
     "output_type": "display_data"
    }
   ],
   "source": [
    "plot_corr(meteo.corr())"
   ]
  },
  {
   "cell_type": "code",
   "execution_count": 8,
   "metadata": {},
   "outputs": [
    {
     "data": {
      "text/plain": [
       "<matplotlib.axes._subplots.AxesSubplot at 0x1ab082c2f60>"
      ]
     },
     "execution_count": 8,
     "metadata": {},
     "output_type": "execute_result"
    },
    {
     "data": {
      "image/png": "[encoded data removed]",
      "text/plain": [
       "<Figure size 432x288 with 2 Axes>"
      ]
     },
     "metadata": {
      "needs_background": "light"
     },
     "output_type": "display_data"
    }
   ],
   "source": [
    "sns.heatmap(meteo.corr())"
   ]
  },
  {
   "cell_type": "code",
   "execution_count": 9,
   "metadata": {},
   "outputs": [],
   "source": [
    "#La variable Temperature est corrélée à la Dew Point donc nous l'avons supprimée\n",
    "X=X[:,[0,2,3,4]]\n",
    "#X"
   ]
  },
  {
   "cell_type": "code",
   "execution_count": 10,
   "metadata": {},
   "outputs": [],
   "source": [
    "X_train, X_test, y_train, y_test = train_test_split(X, y, train_size=0.8)"
   ]
  },
  {
   "cell_type": "code",
   "execution_count": 11,
   "metadata": {},
   "outputs": [
    {
     "data": {
      "text/html": [
       "<table class=\"simpletable\">\n",
       "<caption>OLS Regression Results</caption>\n",
       "<tr>\n",
       "  <th>Dep. Variable:</th>            <td>y</td>        <th>  R-squared (uncentered):</th>       <td>   0.362</td>  \n",
       "</tr>\n",
       "<tr>\n",
       "  <th>Model:</th>                   <td>OLS</td>       <th>  Adj. R-squared (uncentered):</th>  <td>   0.362</td>  \n",
       "</tr>\n",
       "<tr>\n",
       "  <th>Method:</th>             <td>Least Squares</td>  <th>  F-statistic:       </th>           <td>1.110e+04</td> \n",
       "</tr>\n",
       "<tr>\n",
       "  <th>Date:</th>             <td>Wed, 20 Nov 2019</td> <th>  Prob (F-statistic):</th>            <td>  0.00</td>   \n",
       "</tr>\n",
       "<tr>\n",
       "  <th>Time:</th>                 <td>19:10:23</td>     <th>  Log-Likelihood:    </th>          <td>-4.2758e+05</td>\n",
       "</tr>\n",
       "<tr>\n",
       "  <th>No. Observations:</th>      <td> 78285</td>      <th>  AIC:               </th>           <td>8.552e+05</td> \n",
       "</tr>\n",
       "<tr>\n",
       "  <th>Df Residuals:</th>          <td> 78281</td>      <th>  BIC:               </th>           <td>8.552e+05</td> \n",
       "</tr>\n",
       "<tr>\n",
       "  <th>Df Model:</th>              <td>     4</td>      <th>                     </th>               <td> </td>     \n",
       "</tr>\n",
       "<tr>\n",
       "  <th>Covariance Type:</th>      <td>nonrobust</td>    <th>                     </th>               <td> </td>     \n",
       "</tr>\n",
       "</table>\n",
       "<table class=\"simpletable\">\n",
       "<tr>\n",
       "   <td></td>     <th>coef</th>     <th>std err</th>      <th>t</th>      <th>P>|t|</th>  <th>[0.025</th>    <th>0.975]</th>  \n",
       "</tr>\n",
       "<tr>\n",
       "  <th>x1</th> <td>    0.2362</td> <td>    0.008</td> <td>   29.930</td> <td> 0.000</td> <td>    0.221</td> <td>    0.252</td>\n",
       "</tr>\n",
       "<tr>\n",
       "  <th>x2</th> <td>    0.2887</td> <td>    0.006</td> <td>   45.777</td> <td> 0.000</td> <td>    0.276</td> <td>    0.301</td>\n",
       "</tr>\n",
       "<tr>\n",
       "  <th>x3</th> <td>    0.3618</td> <td>    0.031</td> <td>   11.691</td> <td> 0.000</td> <td>    0.301</td> <td>    0.422</td>\n",
       "</tr>\n",
       "<tr>\n",
       "  <th>x4</th> <td>    0.6123</td> <td>    0.043</td> <td>   14.309</td> <td> 0.000</td> <td>    0.528</td> <td>    0.696</td>\n",
       "</tr>\n",
       "</table>\n",
       "<table class=\"simpletable\">\n",
       "<tr>\n",
       "  <th>Omnibus:</th>       <td>73688.176</td> <th>  Durbin-Watson:     </th>  <td>   1.563</td>  \n",
       "</tr>\n",
       "<tr>\n",
       "  <th>Prob(Omnibus):</th>  <td> 0.000</td>   <th>  Jarque-Bera (JB):  </th> <td>5461426.054</td>\n",
       "</tr>\n",
       "<tr>\n",
       "  <th>Skew:</th>           <td> 4.387</td>   <th>  Prob(JB):          </th>  <td>    0.00</td>  \n",
       "</tr>\n",
       "<tr>\n",
       "  <th>Kurtosis:</th>       <td>42.967</td>   <th>  Cond. No.          </th>  <td>    20.3</td>  \n",
       "</tr>\n",
       "</table><br/><br/>Warnings:<br/>[1] Standard Errors assume that the covariance matrix of the errors is correctly specified."
      ],
      "text/plain": [
       "<class 'statsmodels.iolib.summary.Summary'>\n",
       "\"\"\"\n",
       "                                 OLS Regression Results                                \n",
       "=======================================================================================\n",
       "Dep. Variable:                      y   R-squared (uncentered):                   0.362\n",
       "Model:                            OLS   Adj. R-squared (uncentered):              0.362\n",
       "Method:                 Least Squares   F-statistic:                          1.110e+04\n",
       "Date:                Wed, 20 Nov 2019   Prob (F-statistic):                        0.00\n",
       "Time:                        19:10:23   Log-Likelihood:                     -4.2758e+05\n",
       "No. Observations:               78285   AIC:                                  8.552e+05\n",
       "Df Residuals:                   78281   BIC:                                  8.552e+05\n",
       "Df Model:                           4                                                  \n",
       "Covariance Type:            nonrobust                                                  \n",
       "==============================================================================\n",
       "                 coef    std err          t      P>|t|      [0.025      0.975]\n",
       "------------------------------------------------------------------------------\n",
       "x1             0.2362      0.008     29.930      0.000       0.221       0.252\n",
       "x2             0.2887      0.006     45.777      0.000       0.276       0.301\n",
       "x3             0.3618      0.031     11.691      0.000       0.301       0.422\n",
       "x4             0.6123      0.043     14.309      0.000       0.528       0.696\n",
       "==============================================================================\n",
       "Omnibus:                    73688.176   Durbin-Watson:                   1.563\n",
       "Prob(Omnibus):                  0.000   Jarque-Bera (JB):          5461426.054\n",
       "Skew:                           4.387   Prob(JB):                         0.00\n",
       "Kurtosis:                      42.967   Cond. No.                         20.3\n",
       "==============================================================================\n",
       "\n",
       "Warnings:\n",
       "[1] Standard Errors assume that the covariance matrix of the errors is correctly specified.\n",
       "\"\"\""
      ]
     },
     "execution_count": 11,
     "metadata": {},
     "output_type": "execute_result"
    }
   ],
   "source": [
    "#X = sm.add_constant(X)\n",
    "model = sm.OLS(y,X).fit()\n",
    "model.summary()"
   ]
  },
  {
   "cell_type": "code",
   "execution_count": 12,
   "metadata": {},
   "outputs": [
    {
     "data": {
      "text/plain": [
       "array([47.98114709, 40.20195633, 31.07230492, ..., 50.63056244,\n",
       "       46.19949549, 54.48782553])"
      ]
     },
     "execution_count": 12,
     "metadata": {},
     "output_type": "execute_result"
    }
   ],
   "source": [
    "model.predict()"
   ]
  },
  {
   "cell_type": "code",
   "execution_count": 13,
   "metadata": {},
   "outputs": [
    {
     "data": {
      "text/html": [
       "<table class=\"simpletable\">\n",
       "<caption>Statespace Model Results</caption>\n",
       "<tr>\n",
       "  <th>Dep. Variable:</th>           <td>y</td>        <th>  No. Observations:  </th>    <td>78285</td>   \n",
       "</tr>\n",
       "<tr>\n",
       "  <th>Model:</th>              <td>RecursiveLS</td>   <th>  Log Likelihood     </th> <td>-427600.773</td>\n",
       "</tr>\n",
       "<tr>\n",
       "  <th>Date:</th>            <td>Wed, 20 Nov 2019</td> <th>  R-squared:         </th>  <td>   0.362</td>  \n",
       "</tr>\n",
       "<tr>\n",
       "  <th>Time:</th>                <td>19:10:26</td>     <th>  AIC                </th> <td>855209.546</td> \n",
       "</tr>\n",
       "<tr>\n",
       "  <th>Sample:</th>                  <td>0</td>        <th>  BIC                </th> <td>855246.618</td> \n",
       "</tr>\n",
       "<tr>\n",
       "  <th></th>                     <td> - 78285</td>     <th>  HQIC               </th> <td>855220.922</td> \n",
       "</tr>\n",
       "<tr>\n",
       "  <th>Covariance Type:</th>     <td>nonrobust</td>    <th>  Scale              </th>  <td>3248.445</td>  \n",
       "</tr>\n",
       "</table>\n",
       "<table class=\"simpletable\">\n",
       "<tr>\n",
       "   <td></td>     <th>coef</th>     <th>std err</th>      <th>z</th>      <th>P>|z|</th>  <th>[0.025</th>    <th>0.975]</th>  \n",
       "</tr>\n",
       "<tr>\n",
       "  <th>x1</th> <td>    0.2362</td> <td>    0.008</td> <td>   29.930</td> <td> 0.000</td> <td>    0.221</td> <td>    0.252</td>\n",
       "</tr>\n",
       "<tr>\n",
       "  <th>x2</th> <td>    0.2887</td> <td>    0.006</td> <td>   45.777</td> <td> 0.000</td> <td>    0.276</td> <td>    0.301</td>\n",
       "</tr>\n",
       "<tr>\n",
       "  <th>x3</th> <td>    0.3618</td> <td>    0.031</td> <td>   11.691</td> <td> 0.000</td> <td>    0.301</td> <td>    0.422</td>\n",
       "</tr>\n",
       "<tr>\n",
       "  <th>x4</th> <td>    0.6123</td> <td>    0.043</td> <td>   14.309</td> <td> 0.000</td> <td>    0.528</td> <td>    0.696</td>\n",
       "</tr>\n",
       "</table>\n",
       "<table class=\"simpletable\">\n",
       "<tr>\n",
       "  <th>Ljung-Box (Q):</th>          <td>20368.23</td> <th>  Jarque-Bera (JB):  </th> <td>5429635.26</td>\n",
       "</tr>\n",
       "<tr>\n",
       "  <th>Prob(Q):</th>                  <td>0.00</td>   <th>  Prob(JB):          </th>    <td>0.00</td>   \n",
       "</tr>\n",
       "<tr>\n",
       "  <th>Heteroskedasticity (H):</th>   <td>1.03</td>   <th>  Skew:              </th>    <td>4.38</td>   \n",
       "</tr>\n",
       "<tr>\n",
       "  <th>Prob(H) (two-sided):</th>      <td>0.02</td>   <th>  Kurtosis:          </th>    <td>42.85</td>  \n",
       "</tr>\n",
       "</table><br/><br/>Warnings:<br/>[1] Parameters and covariance matrix estimates are RLS estimates conditional on the entire sample."
      ],
      "text/plain": [
       "<class 'statsmodels.iolib.summary.Summary'>\n",
       "\"\"\"\n",
       "                           Statespace Model Results                           \n",
       "==============================================================================\n",
       "Dep. Variable:                      y   No. Observations:                78285\n",
       "Model:                    RecursiveLS   Log Likelihood             -427600.773\n",
       "Date:                Wed, 20 Nov 2019   R-squared:                       0.362\n",
       "Time:                        19:10:26   AIC                         855209.546\n",
       "Sample:                             0   BIC                         855246.618\n",
       "                              - 78285   HQIC                        855220.922\n",
       "Covariance Type:            nonrobust   Scale                         3248.445\n",
       "==============================================================================\n",
       "                 coef    std err          z      P>|z|      [0.025      0.975]\n",
       "------------------------------------------------------------------------------\n",
       "x1             0.2362      0.008     29.930      0.000       0.221       0.252\n",
       "x2             0.2887      0.006     45.777      0.000       0.276       0.301\n",
       "x3             0.3618      0.031     11.691      0.000       0.301       0.422\n",
       "x4             0.6123      0.043     14.309      0.000       0.528       0.696\n",
       "===================================================================================\n",
       "Ljung-Box (Q):                    20368.23   Jarque-Bera (JB):           5429635.26\n",
       "Prob(Q):                              0.00   Prob(JB):                         0.00\n",
       "Heteroskedasticity (H):               1.03   Skew:                             4.38\n",
       "Prob(H) (two-sided):                  0.02   Kurtosis:                        42.85\n",
       "===================================================================================\n",
       "\n",
       "Warnings:\n",
       "[1] Parameters and covariance matrix estimates are RLS estimates conditional on the entire sample.\n",
       "\"\"\""
      ]
     },
     "execution_count": 13,
     "metadata": {},
     "output_type": "execute_result"
    }
   ],
   "source": [
    "mod = sm.RecursiveLS(y,X).fit()\n",
    "mod.summary()"
   ]
  }
 ],
 "metadata": {
  "kernelspec": {
   "display_name": "Python 3",
   "language": "python",
   "name": "python3"
  },
  "language_info": {
   "codemirror_mode": {
    "name": "ipython",
    "version": 3
   },
   "file_extension": ".py",
   "mimetype": "text/x-python",
   "name": "python",
   "nbconvert_exporter": "python",
   "pygments_lexer": "ipython3",
   "version": "3.7.3"
  }
 },
 "nbformat": 4,
 "nbformat_minor": 2
}
