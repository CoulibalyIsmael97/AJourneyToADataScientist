{
 "cells": [
  {
   "cell_type": "markdown",
   "metadata": {},
   "source": [
    "Membres du groupes:\n",
    "COULIBALY Fanfol Ismael Raoul et WANG Ziyuan"
   ]
  },
  {
   "cell_type": "markdown",
   "metadata": {},
   "source": [
    "1  An elementary SVM"
   ]
  },
  {
   "cell_type": "markdown",
   "metadata": {},
   "source": [
    "1-1)\n",
    "Answer\n",
    "|a+b+c|=|a+5b+c|=|5a+b+c|\n",
    "(a,b)=(1,1)\n",
    "c= -4"
   ]
  },
  {
   "cell_type": "markdown",
   "metadata": {},
   "source": [
    "1-2) Implement"
   ]
  },
  {
   "cell_type": "code",
   "execution_count": 1,
   "metadata": {},
   "outputs": [],
   "source": [
    "import numpy as np\n",
    "import matplotlib.pyplot as plt\n",
    "from matplotlib import style\n",
    "style.use(\"ggplot\")\n",
    "from sklearn import svm"
   ]
  },
  {
   "cell_type": "code",
   "execution_count": 2,
   "metadata": {},
   "outputs": [
    {
     "name": "stdout",
     "output_type": "stream",
     "text": [
      "[[ 1.  1.]\n",
      " [ 1.  5.]\n",
      " [ 5.  1.]]\n",
      "[1 2]\n",
      "[ 0.49975586  0.49975586]\n"
     ]
    },
    {
     "data": {
      "image/png": "[encoded data removed]",
      "text/plain": [
       "<matplotlib.figure.Figure at 0x7f9ccc0b94a8>"
      ]
     },
     "metadata": {},
     "output_type": "display_data"
    }
   ],
   "source": [
    "X = np.array([[1, 1], [1, 5], [5, 1], [5, 5]])\n",
    "y = [-1,1,1,1]\n",
    "clf = svm.SVC(kernel='linear')\n",
    "clf.fit(X, y)\n",
    "print(clf.support_vectors_)\n",
    "print(clf.n_support_)\n",
    "w = clf.coef_[0]\n",
    "print(w)\n",
    "a = -w[0] / w[1]\n",
    "xx = np.linspace(0,6)\n",
    "yy = a * xx - clf.intercept_[0] / w[1]\n",
    "plt.plot(xx, yy, 'k-', label=\"non weighted div\")\n",
    "plt.scatter(X[:, 0], X[:, 1], c = y)\n",
    "plt.legend()\n",
    "plt.show()"
   ]
  },
  {
   "cell_type": "markdown",
   "metadata": {},
   "source": [
    "Answer:\n",
    "[[ 1.  1.]\n",
    " [ 1.  5.]\n",
    " [ 5.  1.]] mean the support vectors, which are in the support vector classifier;\n",
    " \n",
    " [1 2] is the number of support vectors in the class -1 and 1\n",
    " \n",
    " [ 0.49975586  0.49975586] is the vector which is perpendicular to the leading vector of the line\n",
    " \n",
    " "
   ]
  },
  {
   "cell_type": "markdown",
   "metadata": {},
   "source": [
    "2  Iris"
   ]
  },
  {
   "cell_type": "code",
   "execution_count": 39,
   "metadata": {},
   "outputs": [
    {
     "name": "stdout",
     "output_type": "stream",
     "text": [
      "Results:\n",
      " [ 1.          0.93333333  1.          1.          0.86666667  1.\n",
      "  0.93333333  1.          1.          1.        ]\n",
      "Average:\n",
      " 0.973333333333\n",
      "Results:\n",
      " [ 1.          1.          1.          1.          0.93333333  0.93333333\n",
      "  0.86666667  1.          1.          1.        ]\n",
      "Average:\n",
      " 0.973333333333\n",
      "Results:\n",
      " [ 1.          0.93333333  1.          1.          1.          0.93333333\n",
      "  0.93333333  1.          1.          1.        ]\n",
      "Average:\n",
      " 0.98\n",
      "Results:\n",
      " [ 0.          0.33333333  0.06666667  0.13333333  0.          0.\n",
      "  0.06666667  0.          0.          0.        ]\n",
      "Average:\n",
      " 0.06\n"
     ]
    },
    {
     "name": "stderr",
     "output_type": "stream",
     "text": [
      "/usr/lib/python3/dist-packages/sklearn/model_selection/_split.py:2026: FutureWarning: From version 0.21, test_size will always complement train_size unless both are specified.\n",
      "  FutureWarning)\n"
     ]
    }
   ],
   "source": [
    "from sklearn import svm\n",
    "from sklearn import datasets\n",
    "from sklearn.model_selection import train_test_split,cross_val_score,KFold\n",
    "\n",
    "clf = svm.SVC(kernel='linear')\n",
    "iris = datasets.load_iris()\n",
    "X, y = iris.data, iris.target\n",
    "\n",
    "train_X,test_X,train_y,test_y =train_test_split(X,y,train_size=100)\n",
    "\n",
    "clf.fit(train_X,train_y)\n",
    "predict_y =clf.predict(test_X)\n",
    "\n",
    "scores = cross_val_score(clf,X,y,cv=10)\n",
    "print('Results:\\n',scores)\n",
    "print('Average:\\n',np.mean(scores))\n",
    "\n",
    "\n",
    "clf= svm.SVC(kernel='poly')\n",
    "scores = cross_val_score(clf,X,y,cv=10)\n",
    "print('Results:\\n',scores)\n",
    "print('Average:\\n',np.mean(scores))\n",
    "\n",
    "\n",
    "clf= svm.SVC(kernel='rbf')\n",
    "scores = cross_val_score(clf,X,y,cv=10)\n",
    "print('Results:\\n',scores)\n",
    "print('Average:\\n',np.mean(scores))\n",
    "\n",
    "clf= svm.SVC(kernel='sigmoid')\n",
    "scores = cross_val_score(clf,X,y,cv=10)\n",
    "print('Results:\\n',scores)\n",
    "print('Average:\\n',np.mean(scores))\n",
    "\n"
   ]
  },
  {
   "cell_type": "code",
   "execution_count": null,
   "metadata": {},
   "outputs": [],
   "source": []
  }
 ],
 "metadata": {
  "kernelspec": {
   "display_name": "Python 3",
   "language": "python",
   "name": "python3"
  },
  "language_info": {
   "codemirror_mode": {
    "name": "ipython",
    "version": 3
   },
   "file_extension": ".py",
   "mimetype": "text/x-python",
   "name": "python",
   "nbconvert_exporter": "python",
   "pygments_lexer": "ipython3",
   "version": "3.6.8"
  }
 },
 "nbformat": 4,
 "nbformat_minor": 2
}
