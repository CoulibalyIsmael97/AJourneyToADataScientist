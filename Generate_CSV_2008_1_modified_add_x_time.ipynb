{
 "cells": [
  {
   "cell_type": "raw",
   "metadata": {},
   "source": [
    "Ce code permet de générer le fichier CSV \"2008_1_modified_add_x_time.csv\".\n",
    "\n",
    "Il contient une nouvelle colonne \"Start_Date\" qui désigne: l'année,le mois,le jour et l'heure---- Exemple: 2008-01-03 17:00:00.\n",
    "\n",
    "Dans ce fichier les jours et les mois sont des nombres (comme initialiement lorsqu'on télécharger le dataset).\n",
    "On pourra eventuellement les retransformer en chaines de caractères si cela est necessaire. "
   ]
  },
  {
   "cell_type": "code",
   "execution_count": 1,
   "metadata": {},
   "outputs": [],
   "source": [
    "import numpy as np\n",
    "import pandas as pd\n",
    "import matplotlib.pyplot as plt\n",
    "import time\n",
    "import datetime"
   ]
  },
  {
   "cell_type": "code",
   "execution_count": 2,
   "metadata": {},
   "outputs": [],
   "source": [
    "df_slice_modified_add_city=pd.read_csv('2008_1_modified_add_city.csv')"
   ]
  },
  {
   "cell_type": "code",
   "execution_count": 3,
   "metadata": {},
   "outputs": [],
   "source": [
    "# Convertion  des jours en numeros \n",
    "def dayToNum(x):\n",
    "    if x==\"Monday\":\n",
    "        return 1\n",
    "    if x==\"Tuesday\":\n",
    "        return 2\n",
    "    if x==\"Wednesday\":\n",
    "        return 3\n",
    "    if x==\"Thursday\":\n",
    "        return 4\n",
    "    if x==\"Friday\":\n",
    "        return 5\n",
    "    if x==\"Saturday\":\n",
    "        return 6\n",
    "    if x==\"Sunday\":\n",
    "        return 7"
   ]
  },
  {
   "cell_type": "code",
   "execution_count": 4,
   "metadata": {},
   "outputs": [],
   "source": [
    "# Convertion des mois en numeros\n",
    "def monthToNum(x):\n",
    "    if x==\"January\":\n",
    "        return 1\n",
    "    if x==\"February\":\n",
    "        return 2\n",
    "    if x==\"March\":\n",
    "        return 3\n",
    "    if x==\"April\":\n",
    "        return 4\n",
    "    if x==\"May\":\n",
    "        return 5\n",
    "    if x==\"June\":\n",
    "        return 6\n",
    "    if x==\"July\":\n",
    "        return 7\n",
    "    if x==\"August\":\n",
    "        return 8\n",
    "    if x==\"September\":\n",
    "        return 9\n",
    "    if x==\"October\":\n",
    "        return 10\n",
    "    if x==\"November\":\n",
    "        return 11\n",
    "    if x==\"December\":\n",
    "        return 12"
   ]
  },
  {
   "cell_type": "code",
   "execution_count": 5,
   "metadata": {},
   "outputs": [],
   "source": [
    "df_slice_modified_add_city['DayOfWeek']= df_slice_modified_add_city['DayOfWeek'].apply(lambda x : dayToNum(x) )\n",
    "df_slice_modified_add_city['Month']= df_slice_modified_add_city['Month'].apply(lambda x : monthToNum(x) )"
   ]
  },
  {
   "cell_type": "code",
   "execution_count": 6,
   "metadata": {},
   "outputs": [],
   "source": [
    "#Fonction retournant l'heure (00h à 23h)---Valeur de type integer\n",
    "\n",
    "def findHour(s):\n",
    "    s=int(s)\n",
    "    if (len(str(s)))>=3:\n",
    "        if (int(s//100)==24):\n",
    "            return int(0)\n",
    "        else:\n",
    "            return int(s//100)\n",
    "    \n",
    "    if (len(str(s)))<=2 and s<24:\n",
    "        return int(s)\n",
    "    if s==24:\n",
    "        return int(0)\n",
    "    if (len(str(s)))==2 and s>24:\n",
    "        return int(s//10)"
   ]
  },
  {
   "cell_type": "code",
   "execution_count": 7,
   "metadata": {},
   "outputs": [],
   "source": [
    "df_slice_modified_add_city['Hour']=df_slice_modified_add_city['CRSDepTime'].apply(lambda x : findHour(x))"
   ]
  },
  {
   "cell_type": "code",
   "execution_count": 8,
   "metadata": {},
   "outputs": [],
   "source": [
    "#Modifier le nom d'une colonne\n",
    "myList = list(df_slice_modified_add_city.columns)\n",
    "myList[2] = 'Day'\n",
    "df_slice_modified_add_city.columns = myList\n",
    "\n",
    "#Créer une colonne \"Start_Date\" qui désigne: l'année,le mois,le jour et l'heure---- Exemple: 2008-01-03 17:00:00 \n",
    "df_slice_modified_add_city[\"Start_Date\"] = pd.to_datetime(df_slice_modified_add_city[['Year','Month', 'Day','Hour']])\n",
    "\n",
    "myList = list(df_slice_modified_add_city.columns)\n",
    "myList[2] = 'DayofMonth'\n",
    "df_slice_modified_add_city.columns = myList"
   ]
  },
  {
   "cell_type": "code",
   "execution_count": 9,
   "metadata": {},
   "outputs": [],
   "source": [
    "# Créer une nouvelle fonction qui détermine si la valeur en paramètre est manquante:\n",
    "def num_missing(x):\n",
    "    return sum(x.isnull())"
   ]
  },
  {
   "cell_type": "code",
   "execution_count": 12,
   "metadata": {
    "scrolled": true
   },
   "outputs": [
    {
     "name": "stdout",
     "output_type": "stream",
     "text": [
      "iata        0\n",
      "airport     0\n",
      "city       12\n",
      "state      12\n",
      "country     0\n",
      "lat         0\n",
      "long        0\n",
      "dtype: int64\n"
     ]
    }
   ],
   "source": [
    "airportCsv=pd.read_csv('airports.csv')\n",
    "print(airportCsv.apply(num_missing, axis=0)) #axis=0 définit que la fonction sera bien appliquée sur chaque colonne"
   ]
  },
  {
   "cell_type": "code",
   "execution_count": 14,
   "metadata": {},
   "outputs": [],
   "source": [
    "df_slice_modified_add_x_time=df_slice_modified_add_city.copy()\n",
    "df_slice_modified_add_x_time.to_csv('2008_1_modified_add_x_time.csv',index = False)\n"
   ]
  },
  {
   "cell_type": "code",
   "execution_count": 15,
   "metadata": {
    "scrolled": true
   },
   "outputs": [
    {
     "name": "stdout",
     "output_type": "stream",
     "text": [
      "Nombre de valeurs manquantes par colonne:\n",
      "Year                       0\n",
      "Month                      0\n",
      "DayofMonth                 0\n",
      "DayOfWeek                  0\n",
      "DepTime                    0\n",
      "CRSDepTime                 0\n",
      "ArrTime                    0\n",
      "CRSArrTime                 0\n",
      "UniqueCarrier              0\n",
      "FlightNum                  0\n",
      "TailNum                    2\n",
      "ActualElapsedTime          0\n",
      "CRSElapsedTime             0\n",
      "AirTime                    0\n",
      "ArrDelay                   0\n",
      "DepDelay                   0\n",
      "Origin                     0\n",
      "Dest                       0\n",
      "Distance                   0\n",
      "TaxiIn                     0\n",
      "TaxiOut                    0\n",
      "Cancelled                  0\n",
      "CancellationCode     1524735\n",
      "Diverted                   0\n",
      "CarrierDelay               0\n",
      "WeatherDelay               0\n",
      "NASDelay                   0\n",
      "SecurityDelay              0\n",
      "LateAircraftDelay          0\n",
      "City                     749\n",
      "Hour                       0\n",
      "Start_Date                 0\n",
      "dtype: int64\n"
     ]
    }
   ],
   "source": [
    "print(\"Nombre de valeurs manquantes par colonne:\")\n",
    "print(df_slice_modified_add_x_time.apply(num_missing, axis=0)) #axis=0 définit que la fonction sera bien appliquée sur chaque colonne"
   ]
  }
 ],
 "metadata": {
  "kernelspec": {
   "display_name": "Python 3",
   "language": "python",
   "name": "python3"
  },
  "language_info": {
   "codemirror_mode": {
    "name": "ipython",
    "version": 3
   },
   "file_extension": ".py",
   "mimetype": "text/x-python",
   "name": "python",
   "nbconvert_exporter": "python",
   "pygments_lexer": "ipython3",
   "version": "3.7.3"
  }
 },
 "nbformat": 4,
 "nbformat_minor": 2
}
