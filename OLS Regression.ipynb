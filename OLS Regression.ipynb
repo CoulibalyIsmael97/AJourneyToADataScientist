{
 "cells": [
  {
   "cell_type": "code",
   "execution_count": 1,
   "metadata": {},
   "outputs": [],
   "source": [
    "import numpy as np\n",
    "import pandas as pd\n",
    "import matplotlib.pyplot as plt\n",
    "import seaborn as sns\n",
    "from sklearn.model_selection import train_test_split\n",
    "from sklearn.linear_model import LinearRegression\n",
    "from sklearn.metrics import mean_squared_error, r2_score\n",
    "from sklearn.preprocessing import PolynomialFeatures \n",
    "from sklearn import preprocessing\n",
    "import scipy as sp\n",
    "#import statsmodels.formula.api as sm\n",
    "import statsmodels.api as sm\n",
    "from scipy import stats"
   ]
  },
  {
   "cell_type": "code",
   "execution_count": 2,
   "metadata": {},
   "outputs": [],
   "source": [
    "df = pd.read_csv('Jointed_ficher_v1.csv')"
   ]
  },
  {
   "cell_type": "code",
   "execution_count": 3,
   "metadata": {},
   "outputs": [],
   "source": [
    "meteo=df.loc[:,['Temperature','Dew Point','Relative Humidity','Wind Speed','Visibility','WeatherDelay']]\n",
    "meteo=meteo[meteo['WeatherDelay'] > 0]\n",
    "#'Precipitation','Precipitation Cover',"
   ]
  },
  {
   "cell_type": "code",
   "execution_count": 4,
   "metadata": {},
   "outputs": [
    {
     "name": "stdout",
     "output_type": "stream",
     "text": [
      "(1110138, 32)\n",
      "(78285, 6)\n"
     ]
    },
    {
     "data": {
      "text/html": [
       "<div>\n",
       "<style scoped>\n",
       "    .dataframe tbody tr th:only-of-type {\n",
       "        vertical-align: middle;\n",
       "    }\n",
       "\n",
       "    .dataframe tbody tr th {\n",
       "        vertical-align: top;\n",
       "    }\n",
       "\n",
       "    .dataframe thead th {\n",
       "        text-align: right;\n",
       "    }\n",
       "</style>\n",
       "<table border=\"1\" class=\"dataframe\">\n",
       "  <thead>\n",
       "    <tr style=\"text-align: right;\">\n",
       "      <th></th>\n",
       "      <th>Temperature</th>\n",
       "      <th>Dew Point</th>\n",
       "      <th>Relative Humidity</th>\n",
       "      <th>Wind Speed</th>\n",
       "      <th>Visibility</th>\n",
       "      <th>WeatherDelay</th>\n",
       "    </tr>\n",
       "  </thead>\n",
       "  <tbody>\n",
       "    <tr>\n",
       "      <th>28</th>\n",
       "      <td>65.0</td>\n",
       "      <td>55.6</td>\n",
       "      <td>71.63</td>\n",
       "      <td>16.1</td>\n",
       "      <td>10.0</td>\n",
       "      <td>233.0</td>\n",
       "    </tr>\n",
       "    <tr>\n",
       "      <th>50</th>\n",
       "      <td>31.4</td>\n",
       "      <td>29.5</td>\n",
       "      <td>92.85</td>\n",
       "      <td>12.8</td>\n",
       "      <td>2.2</td>\n",
       "      <td>22.0</td>\n",
       "    </tr>\n",
       "    <tr>\n",
       "      <th>127</th>\n",
       "      <td>23.1</td>\n",
       "      <td>10.1</td>\n",
       "      <td>56.99</td>\n",
       "      <td>8.4</td>\n",
       "      <td>10.0</td>\n",
       "      <td>30.0</td>\n",
       "    </tr>\n",
       "    <tr>\n",
       "      <th>150</th>\n",
       "      <td>25.1</td>\n",
       "      <td>16.6</td>\n",
       "      <td>69.76</td>\n",
       "      <td>8.2</td>\n",
       "      <td>10.0</td>\n",
       "      <td>3.0</td>\n",
       "    </tr>\n",
       "    <tr>\n",
       "      <th>154</th>\n",
       "      <td>18.4</td>\n",
       "      <td>12.4</td>\n",
       "      <td>77.12</td>\n",
       "      <td>3.3</td>\n",
       "      <td>9.6</td>\n",
       "      <td>25.0</td>\n",
       "    </tr>\n",
       "  </tbody>\n",
       "</table>\n",
       "</div>"
      ],
      "text/plain": [
       "     Temperature  Dew Point  Relative Humidity  Wind Speed  Visibility  \\\n",
       "28          65.0       55.6              71.63        16.1        10.0   \n",
       "50          31.4       29.5              92.85        12.8         2.2   \n",
       "127         23.1       10.1              56.99         8.4        10.0   \n",
       "150         25.1       16.6              69.76         8.2        10.0   \n",
       "154         18.4       12.4              77.12         3.3         9.6   \n",
       "\n",
       "     WeatherDelay  \n",
       "28          233.0  \n",
       "50           22.0  \n",
       "127          30.0  \n",
       "150           3.0  \n",
       "154          25.0  "
      ]
     },
     "execution_count": 4,
     "metadata": {},
     "output_type": "execute_result"
    }
   ],
   "source": [
    "print(df.shape)\n",
    "print(meteo.shape)\n",
    "meteo.head()"
   ]
  },
  {
   "cell_type": "code",
   "execution_count": 5,
   "metadata": {},
   "outputs": [
    {
     "data": {
      "text/plain": [
       "array([[65.  , 55.6 , 71.63, 16.1 , 10.  ],\n",
       "       [31.4 , 29.5 , 92.85, 12.8 ,  2.2 ],\n",
       "       [23.1 , 10.1 , 56.99,  8.4 , 10.  ],\n",
       "       ...,\n",
       "       [71.  , 64.7 , 80.66, 12.3 , 10.  ],\n",
       "       [60.8 , 57.5 , 89.07,  0.  , 10.  ],\n",
       "       [68.1 , 67.4 , 97.52, 11.4 , 10.  ]])"
      ]
     },
     "execution_count": 5,
     "metadata": {},
     "output_type": "execute_result"
    }
   ],
   "source": [
    "X=meteo.iloc[:,:-1].values\n",
    "y=meteo.iloc[:,5].values\n",
    "X"
   ]
  },
  {
   "cell_type": "code",
   "execution_count": 6,
   "metadata": {},
   "outputs": [],
   "source": [
    "X=X[:,[0,2,3,4]]"
   ]
  },
  {
   "cell_type": "code",
   "execution_count": 7,
   "metadata": {},
   "outputs": [
    {
     "data": {
      "text/plain": [
       "array([[ 0.36440708,  0.03259168,  0.95556954,  0.39337619],\n",
       "       [-1.0318906 ,  1.15224349,  0.42558177, -1.28749139],\n",
       "       [-1.37680938, -0.7398731 , -0.28106858,  0.39337619],\n",
       "       ...,\n",
       "       [ 0.61374595,  0.50905049,  0.3452806 ,  0.39337619],\n",
       "       [ 0.18986987,  0.95279562, -1.63012835,  0.39337619],\n",
       "       [ 0.49323217,  1.39865131,  0.20073848,  0.39337619]])"
      ]
     },
     "execution_count": 7,
     "metadata": {},
     "output_type": "execute_result"
    }
   ],
   "source": [
    "#prepocessing\n",
    "scaler = preprocessing.StandardScaler().fit(X)\n",
    "X_scaled = scaler.transform(X)\n",
    "X_scaled\n"
   ]
  },
  {
   "cell_type": "code",
   "execution_count": 8,
   "metadata": {},
   "outputs": [],
   "source": [
    "X_train, X_test, y_train, y_test = train_test_split(X_scaled, y, train_size=0.8)"
   ]
  },
  {
   "cell_type": "code",
   "execution_count": 9,
   "metadata": {},
   "outputs": [
    {
     "data": {
      "text/html": [
       "<table class=\"simpletable\">\n",
       "<caption>OLS Regression Results</caption>\n",
       "<tr>\n",
       "  <th>Dep. Variable:</th>            <td>y</td>        <th>  R-squared (uncentered):</th>       <td>   0.001</td>  \n",
       "</tr>\n",
       "<tr>\n",
       "  <th>Model:</th>                   <td>OLS</td>       <th>  Adj. R-squared (uncentered):</th>  <td>   0.001</td>  \n",
       "</tr>\n",
       "<tr>\n",
       "  <th>Method:</th>             <td>Least Squares</td>  <th>  F-statistic:       </th>           <td>   19.08</td>  \n",
       "</tr>\n",
       "<tr>\n",
       "  <th>Date:</th>             <td>Sun, 24 Nov 2019</td> <th>  Prob (F-statistic):</th>           <td>1.08e-15</td>  \n",
       "</tr>\n",
       "<tr>\n",
       "  <th>Time:</th>                 <td>00:38:58</td>     <th>  Log-Likelihood:    </th>          <td>-3.5634e+05</td>\n",
       "</tr>\n",
       "<tr>\n",
       "  <th>No. Observations:</th>      <td> 62628</td>      <th>  AIC:               </th>           <td>7.127e+05</td> \n",
       "</tr>\n",
       "<tr>\n",
       "  <th>Df Residuals:</th>          <td> 62624</td>      <th>  BIC:               </th>           <td>7.127e+05</td> \n",
       "</tr>\n",
       "<tr>\n",
       "  <th>Df Model:</th>              <td>     4</td>      <th>                     </th>               <td> </td>     \n",
       "</tr>\n",
       "<tr>\n",
       "  <th>Covariance Type:</th>      <td>nonrobust</td>    <th>                     </th>               <td> </td>     \n",
       "</tr>\n",
       "</table>\n",
       "<table class=\"simpletable\">\n",
       "<tr>\n",
       "   <td></td>     <th>coef</th>     <th>std err</th>      <th>t</th>      <th>P>|t|</th>  <th>[0.025</th>    <th>0.975]</th>  \n",
       "</tr>\n",
       "<tr>\n",
       "  <th>x1</th> <td>    2.1957</td> <td>    0.310</td> <td>    7.090</td> <td> 0.000</td> <td>    1.589</td> <td>    2.803</td>\n",
       "</tr>\n",
       "<tr>\n",
       "  <th>x2</th> <td>   -0.9686</td> <td>    0.357</td> <td>   -2.713</td> <td> 0.007</td> <td>   -1.668</td> <td>   -0.269</td>\n",
       "</tr>\n",
       "<tr>\n",
       "  <th>x3</th> <td>   -0.2907</td> <td>    0.295</td> <td>   -0.984</td> <td> 0.325</td> <td>   -0.870</td> <td>    0.288</td>\n",
       "</tr>\n",
       "<tr>\n",
       "  <th>x4</th> <td>   -1.2743</td> <td>    0.346</td> <td>   -3.688</td> <td> 0.000</td> <td>   -1.952</td> <td>   -0.597</td>\n",
       "</tr>\n",
       "</table>\n",
       "<table class=\"simpletable\">\n",
       "<tr>\n",
       "  <th>Omnibus:</th>       <td>60292.561</td> <th>  Durbin-Watson:     </th>  <td>   1.280</td>  \n",
       "</tr>\n",
       "<tr>\n",
       "  <th>Prob(Omnibus):</th>  <td> 0.000</td>   <th>  Jarque-Bera (JB):  </th> <td>4820734.094</td>\n",
       "</tr>\n",
       "<tr>\n",
       "  <th>Skew:</th>           <td> 4.529</td>   <th>  Prob(JB):          </th>  <td>    0.00</td>  \n",
       "</tr>\n",
       "<tr>\n",
       "  <th>Kurtosis:</th>       <td>45.016</td>   <th>  Cond. No.          </th>  <td>    2.05</td>  \n",
       "</tr>\n",
       "</table><br/><br/>Warnings:<br/>[1] Standard Errors assume that the covariance matrix of the errors is correctly specified."
      ],
      "text/plain": [
       "<class 'statsmodels.iolib.summary.Summary'>\n",
       "\"\"\"\n",
       "                                 OLS Regression Results                                \n",
       "=======================================================================================\n",
       "Dep. Variable:                      y   R-squared (uncentered):                   0.001\n",
       "Model:                            OLS   Adj. R-squared (uncentered):              0.001\n",
       "Method:                 Least Squares   F-statistic:                              19.08\n",
       "Date:                Sun, 24 Nov 2019   Prob (F-statistic):                    1.08e-15\n",
       "Time:                        00:38:58   Log-Likelihood:                     -3.5634e+05\n",
       "No. Observations:               62628   AIC:                                  7.127e+05\n",
       "Df Residuals:                   62624   BIC:                                  7.127e+05\n",
       "Df Model:                           4                                                  \n",
       "Covariance Type:            nonrobust                                                  \n",
       "==============================================================================\n",
       "                 coef    std err          t      P>|t|      [0.025      0.975]\n",
       "------------------------------------------------------------------------------\n",
       "x1             2.1957      0.310      7.090      0.000       1.589       2.803\n",
       "x2            -0.9686      0.357     -2.713      0.007      -1.668      -0.269\n",
       "x3            -0.2907      0.295     -0.984      0.325      -0.870       0.288\n",
       "x4            -1.2743      0.346     -3.688      0.000      -1.952      -0.597\n",
       "==============================================================================\n",
       "Omnibus:                    60292.561   Durbin-Watson:                   1.280\n",
       "Prob(Omnibus):                  0.000   Jarque-Bera (JB):          4820734.094\n",
       "Skew:                           4.529   Prob(JB):                         0.00\n",
       "Kurtosis:                      45.016   Cond. No.                         2.05\n",
       "==============================================================================\n",
       "\n",
       "Warnings:\n",
       "[1] Standard Errors assume that the covariance matrix of the errors is correctly specified.\n",
       "\"\"\""
      ]
     },
     "execution_count": 9,
     "metadata": {},
     "output_type": "execute_result"
    }
   ],
   "source": [
    "#X = sm.add_constant(X)\n",
    "model = sm.OLS(y_train,X_train).fit()\n",
    "model.summary()"
   ]
  },
  {
   "cell_type": "code",
   "execution_count": 10,
   "metadata": {},
   "outputs": [],
   "source": [
    "y_pred=model.predict()"
   ]
  },
  {
   "cell_type": "code",
   "execution_count": 11,
   "metadata": {},
   "outputs": [
    {
     "data": {
      "text/plain": [
       "-0.5731474893184638"
      ]
     },
     "execution_count": 11,
     "metadata": {},
     "output_type": "execute_result"
    }
   ],
   "source": [
    "r2_score(y_train,y_pred)"
   ]
  },
  {
   "cell_type": "code",
   "execution_count": 12,
   "metadata": {},
   "outputs": [
    {
     "data": {
      "text/html": [
       "<table class=\"simpletable\">\n",
       "<caption>Statespace Model Results</caption>\n",
       "<tr>\n",
       "  <th>Dep. Variable:</th>           <td>y</td>        <th>  No. Observations:  </th>    <td>78285</td>   \n",
       "</tr>\n",
       "<tr>\n",
       "  <th>Model:</th>              <td>RecursiveLS</td>   <th>  Log Likelihood     </th> <td>-445120.881</td>\n",
       "</tr>\n",
       "<tr>\n",
       "  <th>Date:</th>            <td>Sun, 24 Nov 2019</td> <th>  R-squared:         </th>  <td>   0.001</td>  \n",
       "</tr>\n",
       "<tr>\n",
       "  <th>Time:</th>                <td>00:39:01</td>     <th>  AIC                </th> <td>890249.762</td> \n",
       "</tr>\n",
       "<tr>\n",
       "  <th>Sample:</th>                  <td>0</td>        <th>  BIC                </th> <td>890286.835</td> \n",
       "</tr>\n",
       "<tr>\n",
       "  <th></th>                     <td> - 78285</td>     <th>  HQIC               </th> <td>890261.138</td> \n",
       "</tr>\n",
       "<tr>\n",
       "  <th>Covariance Type:</th>     <td>nonrobust</td>    <th>  Scale              </th>  <td>5083.964</td>  \n",
       "</tr>\n",
       "</table>\n",
       "<table class=\"simpletable\">\n",
       "<tr>\n",
       "   <td></td>     <th>coef</th>     <th>std err</th>      <th>z</th>      <th>P>|z|</th>  <th>[0.025</th>    <th>0.975]</th>  \n",
       "</tr>\n",
       "<tr>\n",
       "  <th>x1</th> <td>    2.4322</td> <td>    0.276</td> <td>    8.806</td> <td> 0.000</td> <td>    1.891</td> <td>    2.974</td>\n",
       "</tr>\n",
       "<tr>\n",
       "  <th>x2</th> <td>   -1.0147</td> <td>    0.318</td> <td>   -3.187</td> <td> 0.001</td> <td>   -1.639</td> <td>   -0.391</td>\n",
       "</tr>\n",
       "<tr>\n",
       "  <th>x3</th> <td>   -0.1775</td> <td>    0.263</td> <td>   -0.675</td> <td> 0.500</td> <td>   -0.693</td> <td>    0.338</td>\n",
       "</tr>\n",
       "<tr>\n",
       "  <th>x4</th> <td>   -1.4470</td> <td>    0.310</td> <td>   -4.664</td> <td> 0.000</td> <td>   -2.055</td> <td>   -0.839</td>\n",
       "</tr>\n",
       "</table>\n",
       "<table class=\"simpletable\">\n",
       "<tr>\n",
       "  <th>Ljung-Box (Q):</th>          <td>27924.28</td> <th>  Jarque-Bera (JB):  </th> <td>4782922.01</td>\n",
       "</tr>\n",
       "<tr>\n",
       "  <th>Prob(Q):</th>                  <td>0.00</td>   <th>  Prob(JB):          </th>    <td>0.00</td>   \n",
       "</tr>\n",
       "<tr>\n",
       "  <th>Heteroskedasticity (H):</th>   <td>1.12</td>   <th>  Skew:              </th>    <td>4.24</td>   \n",
       "</tr>\n",
       "<tr>\n",
       "  <th>Prob(H) (two-sided):</th>      <td>0.00</td>   <th>  Kurtosis:          </th>    <td>40.34</td>  \n",
       "</tr>\n",
       "</table><br/><br/>Warnings:<br/>[1] Parameters and covariance matrix estimates are RLS estimates conditional on the entire sample."
      ],
      "text/plain": [
       "<class 'statsmodels.iolib.summary.Summary'>\n",
       "\"\"\"\n",
       "                           Statespace Model Results                           \n",
       "==============================================================================\n",
       "Dep. Variable:                      y   No. Observations:                78285\n",
       "Model:                    RecursiveLS   Log Likelihood             -445120.881\n",
       "Date:                Sun, 24 Nov 2019   R-squared:                       0.001\n",
       "Time:                        00:39:01   AIC                         890249.762\n",
       "Sample:                             0   BIC                         890286.835\n",
       "                              - 78285   HQIC                        890261.138\n",
       "Covariance Type:            nonrobust   Scale                         5083.964\n",
       "==============================================================================\n",
       "                 coef    std err          z      P>|z|      [0.025      0.975]\n",
       "------------------------------------------------------------------------------\n",
       "x1             2.4322      0.276      8.806      0.000       1.891       2.974\n",
       "x2            -1.0147      0.318     -3.187      0.001      -1.639      -0.391\n",
       "x3            -0.1775      0.263     -0.675      0.500      -0.693       0.338\n",
       "x4            -1.4470      0.310     -4.664      0.000      -2.055      -0.839\n",
       "===================================================================================\n",
       "Ljung-Box (Q):                    27924.28   Jarque-Bera (JB):           4782922.01\n",
       "Prob(Q):                              0.00   Prob(JB):                         0.00\n",
       "Heteroskedasticity (H):               1.12   Skew:                             4.24\n",
       "Prob(H) (two-sided):                  0.00   Kurtosis:                        40.34\n",
       "===================================================================================\n",
       "\n",
       "Warnings:\n",
       "[1] Parameters and covariance matrix estimates are RLS estimates conditional on the entire sample.\n",
       "\"\"\""
      ]
     },
     "execution_count": 12,
     "metadata": {},
     "output_type": "execute_result"
    }
   ],
   "source": [
    "mod = sm.RecursiveLS(y,X_scaled).fit()\n",
    "mod.summary()"
   ]
  },
  {
   "cell_type": "code",
   "execution_count": null,
   "metadata": {},
   "outputs": [],
   "source": []
  }
 ],
 "metadata": {
  "kernelspec": {
   "display_name": "Python 3",
   "language": "python",
   "name": "python3"
  },
  "language_info": {
   "codemirror_mode": {
    "name": "ipython",
    "version": 3
   },
   "file_extension": ".py",
   "mimetype": "text/x-python",
   "name": "python",
   "nbconvert_exporter": "python",
   "pygments_lexer": "ipython3",
   "version": "3.7.3"
  }
 },
 "nbformat": 4,
 "nbformat_minor": 2
}
